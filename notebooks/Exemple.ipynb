{
 "cells": [
  {
   "cell_type": "markdown",
   "id": "bb0c106f",
   "metadata": {},
   "source": [
    "# Exemple"
   ]
  },
  {
   "cell_type": "code",
   "execution_count": 1,
   "id": "51ee8815",
   "metadata": {},
   "outputs": [],
   "source": [
    "import mlflow"
   ]
  },
  {
   "cell_type": "code",
   "execution_count": 2,
   "id": "76aa1d3f",
   "metadata": {},
   "outputs": [],
   "source": [
    "#!pip freeze > /mnt/docker/requirements.txt"
   ]
  },
  {
   "cell_type": "markdown",
   "id": "76849b87",
   "metadata": {},
   "source": [
    "## Utilisation du package"
   ]
  },
  {
   "cell_type": "code",
   "execution_count": 3,
   "id": "bacf8827",
   "metadata": {},
   "outputs": [],
   "source": [
    "#Cette cellule permet d'appeler la version packagée du projet et d'en assurer le reload avant appel des fonctions\n",
    "%load_ext autoreload\n",
    "%autoreload 2"
   ]
  },
  {
   "cell_type": "markdown",
   "id": "a711986f",
   "metadata": {},
   "source": [
    "# Configuration de l'experiment MLFlow"
   ]
  },
  {
   "cell_type": "code",
   "execution_count": 4,
   "id": "ffa8b2fd",
   "metadata": {},
   "outputs": [
    {
     "data": {
      "text/plain": [
       "'/mnt/experiments'"
      ]
     },
     "execution_count": 4,
     "metadata": {},
     "output_type": "execute_result"
    }
   ],
   "source": [
    "mlflow.tracking.get_tracking_uri()"
   ]
  },
  {
   "cell_type": "code",
   "execution_count": 4,
   "id": "ff8007fe",
   "metadata": {},
   "outputs": [
    {
     "name": "stdout",
     "output_type": "stream",
     "text": [
      "Requirement already satisfied: mljar-supervised in /usr/local/lib/python3.8/dist-packages (0.10.4)\n",
      "Requirement already satisfied: joblib==1.0.1 in /usr/local/lib/python3.8/dist-packages (from mljar-supervised) (1.0.1)\n",
      "Requirement already satisfied: lightgbm==3.0.0 in /usr/local/lib/python3.8/dist-packages (from mljar-supervised) (3.0.0)\n",
      "Requirement already satisfied: matplotlib>=3.2.2 in /usr/local/lib/python3.8/dist-packages (from mljar-supervised) (3.3.3)\n",
      "Requirement already satisfied: wordcloud==1.8.1 in /usr/local/lib/python3.8/dist-packages (from mljar-supervised) (1.8.1)\n",
      "Requirement already satisfied: shap==0.36.0 in /usr/local/lib/python3.8/dist-packages (from mljar-supervised) (0.36.0)\n",
      "Requirement already satisfied: pandas==1.2.0 in /usr/local/lib/python3.8/dist-packages (from mljar-supervised) (1.2.0)\n",
      "Requirement already satisfied: seaborn==0.11.1 in /usr/local/lib/python3.8/dist-packages (from mljar-supervised) (0.11.1)\n",
      "Requirement already satisfied: category-encoders==2.2.2 in /usr/local/lib/python3.8/dist-packages (from mljar-supervised) (2.2.2)\n",
      "Requirement already satisfied: scikit-plot==0.3.7 in /usr/local/lib/python3.8/dist-packages (from mljar-supervised) (0.3.7)\n",
      "Requirement already satisfied: scipy==1.6.1 in /usr/local/lib/python3.8/dist-packages (from mljar-supervised) (1.6.1)\n",
      "Requirement already satisfied: markdown in /usr/local/lib/python3.8/dist-packages (from mljar-supervised) (3.3.4)\n",
      "Requirement already satisfied: xgboost==1.3.3 in /usr/local/lib/python3.8/dist-packages (from mljar-supervised) (1.3.3)\n",
      "Requirement already satisfied: dtreeviz==1.3 in /usr/local/lib/python3.8/dist-packages (from mljar-supervised) (1.3)\n",
      "Requirement already satisfied: pyarrow>=2.0.0 in /usr/local/lib/python3.8/dist-packages (from mljar-supervised) (3.0.0)\n",
      "Requirement already satisfied: cloudpickle==1.3.0 in /usr/local/lib/python3.8/dist-packages (from mljar-supervised) (1.3.0)\n",
      "Requirement already satisfied: scikit-learn==0.24.2 in /usr/local/lib/python3.8/dist-packages (from mljar-supervised) (0.24.2)\n",
      "Requirement already satisfied: optuna==2.7.0 in /usr/local/lib/python3.8/dist-packages (from mljar-supervised) (2.7.0)\n",
      "Requirement already satisfied: numpy>=1.20.0 in /usr/local/lib/python3.8/dist-packages (from mljar-supervised) (1.20.3)\n",
      "Requirement already satisfied: catboost==0.24.4 in /usr/local/lib/python3.8/dist-packages (from mljar-supervised) (0.24.4)\n",
      "Requirement already satisfied: tabulate==0.8.7 in /usr/local/lib/python3.8/dist-packages (from mljar-supervised) (0.8.7)\n",
      "Requirement already satisfied: graphviz in /usr/local/lib/python3.8/dist-packages (from catboost==0.24.4->mljar-supervised) (0.16)\n",
      "Requirement already satisfied: six in /usr/local/lib/python3.8/dist-packages (from catboost==0.24.4->mljar-supervised) (1.15.0)\n",
      "Requirement already satisfied: plotly in /usr/local/lib/python3.8/dist-packages (from catboost==0.24.4->mljar-supervised) (4.14.3)\n",
      "Requirement already satisfied: patsy>=0.5.1 in /usr/local/lib/python3.8/dist-packages (from category-encoders==2.2.2->mljar-supervised) (0.5.1)\n",
      "Requirement already satisfied: statsmodels>=0.9.0 in /usr/local/lib/python3.8/dist-packages (from category-encoders==2.2.2->mljar-supervised) (0.12.1)\n",
      "Requirement already satisfied: pytest in /usr/local/lib/python3.8/dist-packages (from dtreeviz==1.3->mljar-supervised) (6.2.2)\n",
      "Requirement already satisfied: colour in /usr/local/lib/python3.8/dist-packages (from dtreeviz==1.3->mljar-supervised) (0.1.5)\n",
      "Requirement already satisfied: sqlalchemy>=1.1.0 in /usr/local/lib/python3.8/dist-packages (from optuna==2.7.0->mljar-supervised) (1.3.22)\n",
      "Requirement already satisfied: packaging>=20.0 in /usr/local/lib/python3.8/dist-packages (from optuna==2.7.0->mljar-supervised) (20.9)\n",
      "Requirement already satisfied: cmaes>=0.8.2 in /usr/local/lib/python3.8/dist-packages (from optuna==2.7.0->mljar-supervised) (0.8.2)\n",
      "Requirement already satisfied: colorlog in /usr/local/lib/python3.8/dist-packages (from optuna==2.7.0->mljar-supervised) (5.0.1)\n",
      "Requirement already satisfied: alembic in /usr/local/lib/python3.8/dist-packages (from optuna==2.7.0->mljar-supervised) (1.4.1)\n",
      "Requirement already satisfied: cliff in /usr/local/lib/python3.8/dist-packages (from optuna==2.7.0->mljar-supervised) (3.8.0)\n",
      "Requirement already satisfied: tqdm in /usr/local/lib/python3.8/dist-packages (from optuna==2.7.0->mljar-supervised) (4.57.0)\n",
      "Requirement already satisfied: python-dateutil>=2.7.3 in /usr/local/lib/python3.8/dist-packages (from pandas==1.2.0->mljar-supervised) (2.8.1)\n",
      "Requirement already satisfied: pytz>=2017.3 in /usr/local/lib/python3.8/dist-packages (from pandas==1.2.0->mljar-supervised) (2021.1)\n",
      "Requirement already satisfied: threadpoolctl>=2.0.0 in /usr/local/lib/python3.8/dist-packages (from scikit-learn==0.24.2->mljar-supervised) (2.1.0)\n",
      "Requirement already satisfied: slicer in /usr/local/lib/python3.8/dist-packages (from shap==0.36.0->mljar-supervised) (0.0.7)\n",
      "Requirement already satisfied: numba in /usr/local/lib/python3.8/dist-packages (from shap==0.36.0->mljar-supervised) (0.52.0)\n",
      "Requirement already satisfied: pillow in /usr/local/lib/python3.8/dist-packages (from wordcloud==1.8.1->mljar-supervised) (8.1.0)\n",
      "Requirement already satisfied: kiwisolver>=1.0.1 in /usr/local/lib/python3.8/dist-packages (from matplotlib>=3.2.2->mljar-supervised) (1.3.1)\n",
      "Requirement already satisfied: pyparsing!=2.0.4,!=2.1.2,!=2.1.6,>=2.0.3 in /usr/local/lib/python3.8/dist-packages (from matplotlib>=3.2.2->mljar-supervised) (2.4.7)\n",
      "Requirement already satisfied: cycler>=0.10 in /usr/local/lib/python3.8/dist-packages (from matplotlib>=3.2.2->mljar-supervised) (0.10.0)\n",
      "Requirement already satisfied: Mako in /usr/local/lib/python3.8/dist-packages (from alembic->optuna==2.7.0->mljar-supervised) (1.1.4)\n",
      "Requirement already satisfied: python-editor>=0.3 in /usr/local/lib/python3.8/dist-packages (from alembic->optuna==2.7.0->mljar-supervised) (1.0.4)\n",
      "Requirement already satisfied: stevedore>=2.0.1 in /usr/local/lib/python3.8/dist-packages (from cliff->optuna==2.7.0->mljar-supervised) (3.3.0)\n",
      "Requirement already satisfied: cmd2>=1.0.0 in /usr/local/lib/python3.8/dist-packages (from cliff->optuna==2.7.0->mljar-supervised) (1.5.0)\n",
      "Requirement already satisfied: PrettyTable>=0.7.2 in /usr/local/lib/python3.8/dist-packages (from cliff->optuna==2.7.0->mljar-supervised) (2.1.0)\n",
      "Requirement already satisfied: PyYAML>=3.12 in /usr/local/lib/python3.8/dist-packages (from cliff->optuna==2.7.0->mljar-supervised) (5.4.1)\n",
      "Requirement already satisfied: pbr!=2.1.0,>=2.0.0 in /usr/local/lib/python3.8/dist-packages (from cliff->optuna==2.7.0->mljar-supervised) (5.6.0)\n",
      "Requirement already satisfied: colorama>=0.3.7 in /usr/local/lib/python3.8/dist-packages (from cmd2>=1.0.0->cliff->optuna==2.7.0->mljar-supervised) (0.4.4)\n",
      "Requirement already satisfied: wcwidth>=0.1.7 in /usr/local/lib/python3.8/dist-packages (from cmd2>=1.0.0->cliff->optuna==2.7.0->mljar-supervised) (0.2.5)\n",
      "Requirement already satisfied: attrs>=16.3.0 in /usr/local/lib/python3.8/dist-packages (from cmd2>=1.0.0->cliff->optuna==2.7.0->mljar-supervised) (20.3.0)\n",
      "Requirement already satisfied: pyperclip>=1.6 in /usr/local/lib/python3.8/dist-packages (from cmd2>=1.0.0->cliff->optuna==2.7.0->mljar-supervised) (1.8.2)\n",
      "Requirement already satisfied: MarkupSafe>=0.9.2 in /usr/local/lib/python3.8/dist-packages (from Mako->alembic->optuna==2.7.0->mljar-supervised) (1.1.1)\n",
      "Requirement already satisfied: llvmlite<0.36,>=0.35.0 in /usr/local/lib/python3.8/dist-packages (from numba->shap==0.36.0->mljar-supervised) (0.35.0)\n",
      "Requirement already satisfied: setuptools in /usr/local/lib/python3.8/dist-packages (from numba->shap==0.36.0->mljar-supervised) (51.1.1)\n",
      "Requirement already satisfied: retrying>=1.3.3 in /usr/local/lib/python3.8/dist-packages (from plotly->catboost==0.24.4->mljar-supervised) (1.3.3)\n",
      "Requirement already satisfied: iniconfig in /usr/local/lib/python3.8/dist-packages (from pytest->dtreeviz==1.3->mljar-supervised) (1.1.1)\n",
      "Requirement already satisfied: pluggy<1.0.0a1,>=0.12 in /usr/local/lib/python3.8/dist-packages (from pytest->dtreeviz==1.3->mljar-supervised) (0.13.1)\n",
      "Requirement already satisfied: toml in /usr/local/lib/python3.8/dist-packages (from pytest->dtreeviz==1.3->mljar-supervised) (0.10.2)\n",
      "Requirement already satisfied: py>=1.8.2 in /usr/local/lib/python3.8/dist-packages (from pytest->dtreeviz==1.3->mljar-supervised) (1.10.0)\n",
      "\u001b[33mWARNING: Running pip as root will break packages and permissions. You should install packages reliably by using venv: https://pip.pypa.io/warnings/venv\u001b[0m\n"
     ]
    }
   ],
   "source": [
    "#!pip install mljar-supervised"
   ]
  },
  {
   "cell_type": "code",
   "execution_count": 11,
   "id": "a17219c2",
   "metadata": {},
   "outputs": [
    {
     "name": "stdout",
     "output_type": "stream",
     "text": [
      "This model has already been fitted. You can use predict methods or select a new 'results_path' for a new 'fit()'.\n",
      "Test MSE: 13.988403191076053\n"
     ]
    }
   ],
   "source": [
    "import numpy as np\n",
    "import pandas as pd\n",
    "from sklearn.datasets import load_boston\n",
    "from sklearn.model_selection import train_test_split\n",
    "from sklearn.metrics import mean_squared_error\n",
    "from supervised.automl import AutoML # mljar-supervised\n",
    "\n",
    "# Load the data\n",
    "housing = load_boston()\n",
    "X_train, X_test, y_train, y_test = train_test_split(\n",
    "    pd.DataFrame(housing.data, columns=housing.feature_names),\n",
    "    housing.target,\n",
    "    test_size=0.25,\n",
    "    random_state=123,\n",
    ")\n",
    "\n",
    "# train models with AutoML\n",
    "automl = AutoML(mode=\"Explain\", results_path='/mnt/auto_ml')\n",
    "automl.fit(X_train, y_train)\n",
    "\n",
    "# compute the MSE on test data\n",
    "predictions = automl.predict(X_test)\n",
    "print(\"Test MSE:\", mean_squared_error(y_test, predictions))"
   ]
  },
  {
   "cell_type": "code",
   "execution_count": 6,
   "id": "d7b9f19c",
   "metadata": {},
   "outputs": [],
   "source": [
    "from pandas_profiling import ProfileReport"
   ]
  },
  {
   "cell_type": "code",
   "execution_count": 7,
   "id": "9a9fbeb0",
   "metadata": {},
   "outputs": [],
   "source": [
    "pr = ProfileReport(X_train)"
   ]
  },
  {
   "cell_type": "code",
   "execution_count": 8,
   "id": "800fba4a",
   "metadata": {},
   "outputs": [
    {
     "data": {
      "application/vnd.jupyter.widget-view+json": {
       "model_id": "7ff777c35ff84bc18354579d555c34c4",
       "version_major": 2,
       "version_minor": 0
      },
      "text/plain": [
       "Summarize dataset:   0%|          | 0/26 [00:00<?, ?it/s]"
      ]
     },
     "metadata": {},
     "output_type": "display_data"
    },
    {
     "data": {
      "application/vnd.jupyter.widget-view+json": {
       "model_id": "5644d3e5c05742d194a9e3a57b392398",
       "version_major": 2,
       "version_minor": 0
      },
      "text/plain": [
       "Generate report structure:   0%|          | 0/1 [00:00<?, ?it/s]"
      ]
     },
     "metadata": {},
     "output_type": "display_data"
    },
    {
     "data": {
      "application/vnd.jupyter.widget-view+json": {
       "model_id": "df78a26039974614aa7522874b7894f0",
       "version_major": 2,
       "version_minor": 0
      },
      "text/plain": [
       "Render HTML:   0%|          | 0/1 [00:00<?, ?it/s]"
      ]
     },
     "metadata": {},
     "output_type": "display_data"
    },
    {
     "data": {
      "application/vnd.jupyter.widget-view+json": {
       "model_id": "44912e1bfe334cb9952980e0f5cf5602",
       "version_major": 2,
       "version_minor": 0
      },
      "text/plain": [
       "Export report to file:   0%|          | 0/1 [00:00<?, ?it/s]"
      ]
     },
     "metadata": {},
     "output_type": "display_data"
    }
   ],
   "source": [
    "pr.to_file(output_file='pandas_profiling.html')"
   ]
  },
  {
   "cell_type": "code",
   "execution_count": null,
   "id": "14b80392",
   "metadata": {},
   "outputs": [],
   "source": []
  }
 ],
 "metadata": {
  "kernelspec": {
   "display_name": "Python 3",
   "language": "python",
   "name": "python3"
  },
  "language_info": {
   "codemirror_mode": {
    "name": "ipython",
    "version": 3
   },
   "file_extension": ".py",
   "mimetype": "text/x-python",
   "name": "python",
   "nbconvert_exporter": "python",
   "pygments_lexer": "ipython3",
   "version": "3.8.5"
  }
 },
 "nbformat": 4,
 "nbformat_minor": 5
}
