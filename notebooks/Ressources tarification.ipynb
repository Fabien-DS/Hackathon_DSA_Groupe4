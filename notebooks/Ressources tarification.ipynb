{
 "cells": [
  {
   "cell_type": "markdown",
   "id": "b16ba0b1",
   "metadata": {},
   "source": [
    "# Resources tarification"
   ]
  },
  {
   "cell_type": "markdown",
   "id": "a291fa59",
   "metadata": {},
   "source": [
    "## Code"
   ]
  },
  {
   "cell_type": "markdown",
   "id": "dcfc7205",
   "metadata": {},
   "source": [
    "python : https://www.kaggle.com/karansarpal/insurance-data-science-project-ks"
   ]
  },
  {
   "cell_type": "markdown",
   "id": "c6c6fb2e",
   "metadata": {},
   "source": [
    "R : https://www.kaggle.com/floser/glm-neural-nets-and-xgboost-for-insurance-pricing"
   ]
  },
  {
   "cell_type": "markdown",
   "id": "a4d61310",
   "metadata": {},
   "source": [
    "## Vue ensemble"
   ]
  },
  {
   "cell_type": "markdown",
   "id": "67f43310",
   "metadata": {},
   "source": [
    "tarification : http://www.actuariesindia.org/SeminarDocs/8thCBSGI/ppt/Motor_Insurance_contd.pdf"
   ]
  },
  {
   "cell_type": "markdown",
   "id": "9fd9e0c7",
   "metadata": {},
   "source": [
    "lissage spatial : http://www.ressources-actuarielles.net/EXT/ISFA/1226-02.nsf/769998e0a65ea348c1257052003eb94f/8cf946511497be1cc1257fc3002f95bf/$FILE/LEJAY.002.pdf/LEJAY.pdf"
   ]
  },
  {
   "cell_type": "markdown",
   "id": "be87d7f4",
   "metadata": {},
   "source": [
    "French Motor : https://papers.ssrn.com/sol3/papers.cfm?abstract_id=3164764"
   ]
  },
  {
   "cell_type": "markdown",
   "id": "484a4a26",
   "metadata": {},
   "source": [
    "[Data Analytics for Non-Life Insurance Pricing](https://papers.ssrn.com/sol3/papers.cfm?abstract_id=2870308)"
   ]
  },
  {
   "cell_type": "markdown",
   "id": "aeceef95",
   "metadata": {},
   "source": [
    "[Boosting insights in insurance tariff planswith tree-based machine learning methods](https://arxiv.org/pdf/1904.10890.pdf)"
   ]
  },
  {
   "cell_type": "code",
   "execution_count": null,
   "id": "3d377964",
   "metadata": {},
   "outputs": [],
   "source": []
  }
 ],
 "metadata": {
  "kernelspec": {
   "display_name": "Python 3",
   "language": "python",
   "name": "python3"
  },
  "language_info": {
   "codemirror_mode": {
    "name": "ipython",
    "version": 3
   },
   "file_extension": ".py",
   "mimetype": "text/x-python",
   "name": "python",
   "nbconvert_exporter": "python",
   "pygments_lexer": "ipython3",
   "version": "3.8.5"
  }
 },
 "nbformat": 4,
 "nbformat_minor": 5
}
