{
 "cells": [
  {
   "cell_type": "markdown",
   "id": "801431ca",
   "metadata": {},
   "source": [
    "# Resources tarification"
   ]
  },
  {
   "cell_type": "markdown",
   "id": "b809744e",
   "metadata": {},
   "source": [
    "## Code"
   ]
  },
  {
   "cell_type": "markdown",
   "id": "d837aeba",
   "metadata": {},
   "source": [
    "python : https://www.kaggle.com/karansarpal/insurance-data-science-project-ks"
   ]
  },
  {
   "cell_type": "markdown",
   "id": "025dbfdb",
   "metadata": {},
   "source": [
    "R : https://www.kaggle.com/floser/glm-neural-nets-and-xgboost-for-insurance-pricing"
   ]
  },
  {
   "cell_type": "markdown",
   "id": "6051bd72",
   "metadata": {},
   "source": [
    "[Tweedie sklearn](https://scikit-learn.org/stable/auto_examples/linear_model/plot_tweedie_regression_insurance_claims.html#sphx-glr-auto-examples-linear-model-plot-tweedie-regression-insurance-claims-py)"
   ]
  },
  {
   "cell_type": "markdown",
   "id": "51fad6d6",
   "metadata": {},
   "source": [
    "https://scikit-learn.org/stable/modules/model_evaluation.html#scoring-parameter"
   ]
  },
  {
   "cell_type": "markdown",
   "id": "75369263",
   "metadata": {},
   "source": [
    "https://scikit-learn.org/stable/auto_examples/linear_model/plot_poisson_regression_non_normal_loss.html"
   ]
  },
  {
   "cell_type": "markdown",
   "id": "cd178262",
   "metadata": {},
   "source": [
    "## Vue ensemble"
   ]
  },
  {
   "cell_type": "markdown",
   "id": "4371695d",
   "metadata": {},
   "source": [
    "tarification : http://www.actuariesindia.org/SeminarDocs/8thCBSGI/ppt/Motor_Insurance_contd.pdf"
   ]
  },
  {
   "cell_type": "markdown",
   "id": "4d5ca095",
   "metadata": {},
   "source": [
    "lissage spatial : http://www.ressources-actuarielles.net/EXT/ISFA/1226-02.nsf/769998e0a65ea348c1257052003eb94f/8cf946511497be1cc1257fc3002f95bf/$FILE/LEJAY.002.pdf/LEJAY.pdf"
   ]
  },
  {
   "cell_type": "markdown",
   "id": "fa9d7044",
   "metadata": {},
   "source": [
    "French Motor : https://papers.ssrn.com/sol3/papers.cfm?abstract_id=3164764"
   ]
  },
  {
   "cell_type": "markdown",
   "id": "220d7395",
   "metadata": {},
   "source": [
    "[Data Analytics for Non-Life Insurance Pricing](https://papers.ssrn.com/sol3/papers.cfm?abstract_id=2870308)"
   ]
  },
  {
   "cell_type": "markdown",
   "id": "22683e19",
   "metadata": {},
   "source": [
    "[Boosting insights in insurance tariff planswith tree-based machine learning methods](https://arxiv.org/pdf/1904.10890.pdf)"
   ]
  },
  {
   "cell_type": "code",
   "execution_count": null,
   "id": "d8536ca0",
   "metadata": {},
   "outputs": [],
   "source": []
  }
 ],
 "metadata": {
  "kernelspec": {
   "display_name": "Python 3",
   "language": "python",
   "name": "python3"
  },
  "language_info": {
   "codemirror_mode": {
    "name": "ipython",
    "version": 3
   },
   "file_extension": ".py",
   "mimetype": "text/x-python",
   "name": "python",
   "nbconvert_exporter": "python",
   "pygments_lexer": "ipython3",
   "version": "3.8.5"
  }
 },
 "nbformat": 4,
 "nbformat_minor": 5
}
