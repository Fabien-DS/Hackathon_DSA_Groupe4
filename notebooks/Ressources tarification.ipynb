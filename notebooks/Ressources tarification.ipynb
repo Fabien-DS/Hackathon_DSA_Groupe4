{
 "cells": [
  {
   "cell_type": "markdown",
   "id": "e5da884e",
   "metadata": {},
   "source": [
    "# Resources tarification"
   ]
  },
  {
   "cell_type": "markdown",
   "id": "fe2c7208",
   "metadata": {},
   "source": [
    "## Code"
   ]
  },
  {
   "cell_type": "markdown",
   "id": "eaf1c8a1",
   "metadata": {},
   "source": [
    "python : https://www.kaggle.com/karansarpal/insurance-data-science-project-ks"
   ]
  },
  {
   "cell_type": "markdown",
   "id": "e81496d0",
   "metadata": {},
   "source": [
    "R : https://www.kaggle.com/floser/glm-neural-nets-and-xgboost-for-insurance-pricing"
   ]
  },
  {
   "cell_type": "markdown",
   "id": "4cb6c3f2",
   "metadata": {},
   "source": [
    "[Tweedie sklearn](https://scikit-learn.org/stable/auto_examples/linear_model/plot_tweedie_regression_insurance_claims.html#sphx-glr-auto-examples-linear-model-plot-tweedie-regression-insurance-claims-py)"
   ]
  },
  {
   "cell_type": "markdown",
   "id": "968448b0",
   "metadata": {},
   "source": [
    "https://scikit-learn.org/stable/modules/model_evaluation.html#scoring-parameter"
   ]
  },
  {
   "cell_type": "markdown",
   "id": "c71bbfe6",
   "metadata": {},
   "source": [
    "https://scikit-learn.org/stable/auto_examples/linear_model/plot_poisson_regression_non_normal_loss.html"
   ]
  },
  {
   "cell_type": "markdown",
   "id": "ee8225e2",
   "metadata": {},
   "source": [
    "## Vue ensemble"
   ]
  },
  {
   "cell_type": "markdown",
   "id": "f9a38a8e",
   "metadata": {},
   "source": [
    "tarification : http://www.actuariesindia.org/SeminarDocs/8thCBSGI/ppt/Motor_Insurance_contd.pdf"
   ]
  },
  {
   "cell_type": "markdown",
   "id": "bf7d9c09",
   "metadata": {},
   "source": [
    "lissage spatial : http://www.ressources-actuarielles.net/EXT/ISFA/1226-02.nsf/769998e0a65ea348c1257052003eb94f/8cf946511497be1cc1257fc3002f95bf/$FILE/LEJAY.002.pdf/LEJAY.pdf"
   ]
  },
  {
   "cell_type": "markdown",
   "id": "4aa184b0",
   "metadata": {},
   "source": [
    "French Motor : https://papers.ssrn.com/sol3/papers.cfm?abstract_id=3164764"
   ]
  },
  {
   "cell_type": "markdown",
   "id": "0ac452be",
   "metadata": {},
   "source": [
    "[Data Analytics for Non-Life Insurance Pricing](https://papers.ssrn.com/sol3/papers.cfm?abstract_id=2870308)"
   ]
  },
  {
   "cell_type": "markdown",
   "id": "69487a9d",
   "metadata": {},
   "source": [
    "[Boosting insights in insurance tariff planswith tree-based machine learning methods](https://arxiv.org/pdf/1904.10890.pdf)"
   ]
  },
  {
   "cell_type": "code",
   "execution_count": null,
   "id": "d00f20d8",
   "metadata": {},
   "outputs": [],
   "source": []
  }
 ],
 "metadata": {
  "kernelspec": {
   "display_name": "Python 3",
   "language": "python",
   "name": "python3"
  },
  "language_info": {
   "codemirror_mode": {
    "name": "ipython",
    "version": 3
   },
   "file_extension": ".py",
   "mimetype": "text/x-python",
   "name": "python",
   "nbconvert_exporter": "python",
   "pygments_lexer": "ipython3",
   "version": "3.8.5"
  }
 },
 "nbformat": 4,
 "nbformat_minor": 5
}
