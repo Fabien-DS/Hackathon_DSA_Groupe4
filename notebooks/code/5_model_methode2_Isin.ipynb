{
 "cells": [
  {
   "cell_type": "markdown",
   "id": "a04dfedb",
   "metadata": {},
   "source": [
    "# Modélisation Méthode 2 - `E[I]*E[S|I]`"
   ]
  },
  {
   "cell_type": "markdown",
   "id": "e224fabf",
   "metadata": {},
   "source": [
    "## setup"
   ]
  },
  {
   "cell_type": "markdown",
   "id": "1e6fc20f",
   "metadata": {},
   "source": [
    "### Import des fichiers"
   ]
  },
  {
   "cell_type": "code",
   "execution_count": 102,
   "id": "f1eec592",
   "metadata": {},
   "outputs": [],
   "source": [
    "#Temps et fichiers\n",
    "import os\n",
    "import warnings\n",
    "import time\n",
    "from datetime import timedelta\n",
    "\n",
    "#Manipulation de données\n",
    "import pandas as pd\n",
    "import numpy as np\n",
    "from pandas_profiling import ProfileReport\n",
    "from functools import partial\n",
    "\n",
    "\n",
    "#Modélisation\n",
    "from sklearn.datasets import fetch_openml\n",
    "from sklearn.compose import ColumnTransformer\n",
    "from sklearn.linear_model import PoissonRegressor, GammaRegressor\n",
    "from sklearn.linear_model import TweedieRegressor\n",
    "from sklearn.metrics import mean_tweedie_deviance\n",
    "from sklearn.model_selection import train_test_split\n",
    "from sklearn.pipeline import make_pipeline\n",
    "from sklearn.preprocessing import FunctionTransformer, OneHotEncoder\n",
    "from sklearn.preprocessing import StandardScaler, KBinsDiscretizer, MinMaxScaler\n",
    "from sklearn.impute import SimpleImputer\n",
    "from sklearn.ensemble import RandomForestRegressor\n",
    "\n",
    "from sklearn.metrics import mean_absolute_error, mean_squared_error, auc\n",
    "\n",
    "from sklearn.model_selection import train_test_split\n",
    "\n",
    "from sklearn.pipeline import Pipeline, FeatureUnion\n",
    "from sklearn.feature_extraction.text import TfidfVectorizer\n",
    "from sklearn.preprocessing import StandardScaler\n",
    "from sklearn.decomposition import TruncatedSVD\n",
    "from sklearn.ensemble import RandomForestClassifier\n",
    "from sklearn.base import BaseEstimator, TransformerMixin\n",
    "from sklearn.svm import LinearSVC\n",
    "from sklearn.model_selection import RandomizedSearchCV# the keys can be accessed with final_pipeline.get_params().keys()\n",
    "from sklearn.linear_model import LogisticRegression\n",
    "\n",
    "from xgboost import XGBClassifier\n",
    "\n",
    "#Text\n",
    "import re\n",
    "\n",
    "#Evaluation\n",
    "from sklearn.metrics import f1_score, confusion_matrix\n",
    "\n",
    "\n",
    "#Visualisation\n",
    "import matplotlib.pyplot as plt\n",
    "%matplotlib inline\n",
    "import seaborn as sns\n",
    "import plotly.express as px\n",
    "import plotly.graph_objects as go\n",
    "from plotly.subplots import make_subplots\n",
    "\n",
    "\n",
    "#Tracking d'expérience\n",
    "import mlflow\n",
    "import mlflow.sklearn"
   ]
  },
  {
   "cell_type": "markdown",
   "id": "9fee5573",
   "metadata": {},
   "source": [
    "### Utilisation du code du projet packagé"
   ]
  },
  {
   "cell_type": "code",
   "execution_count": 103,
   "id": "5d21f8b7",
   "metadata": {},
   "outputs": [
    {
     "name": "stdout",
     "output_type": "stream",
     "text": [
      "The autoreload extension is already loaded. To reload it, use:\n",
      "  %reload_ext autoreload\n"
     ]
    }
   ],
   "source": [
    "#Cette cellule permet d'appeler la version packagée du projet et d'en assurer le reload avant appel des fonctions\n",
    "%load_ext autoreload\n",
    "%autoreload 2"
   ]
  },
  {
   "cell_type": "code",
   "execution_count": 104,
   "id": "69bbe2d3",
   "metadata": {},
   "outputs": [],
   "source": [
    "random_state=42"
   ]
  },
  {
   "cell_type": "markdown",
   "id": "0f3d46c3",
   "metadata": {},
   "source": [
    "### Configuration de l'experiment MLFlow"
   ]
  },
  {
   "cell_type": "code",
   "execution_count": 105,
   "id": "22ade74f",
   "metadata": {},
   "outputs": [
    {
     "data": {
      "text/plain": [
       "'/mnt/experiments'"
      ]
     },
     "execution_count": 105,
     "metadata": {},
     "output_type": "execute_result"
    }
   ],
   "source": [
    "mlflow.tracking.get_tracking_uri()"
   ]
  },
  {
   "cell_type": "markdown",
   "id": "7336c450",
   "metadata": {},
   "source": [
    "## Chargement des données"
   ]
  },
  {
   "cell_type": "code",
   "execution_count": 106,
   "id": "d4666809",
   "metadata": {},
   "outputs": [],
   "source": [
    "# On Importe les données\n",
    "\n",
    "#df\n",
    "df_merged =pd.read_parquet('/mnt/data/interim/df_merged.gzip')\n",
    "df_train=pd.read_parquet('/mnt/data/interim/df_train.gzip')\n",
    "df_val=pd.read_parquet('/mnt/data/interim/df_val.gzip')\n",
    "\n",
    "#X\n",
    "X_train=pd.read_parquet('/mnt/data/interim/X_train.gzip')\n",
    "X_val=pd.read_parquet('/mnt/data/interim/X_val.gzip')\n",
    "X_test=pd.read_parquet('/mnt/data/interim/X_test.gzip')\n",
    "\n",
    "#y\n",
    "y_train=pd.read_parquet('/mnt/data/interim/y_train.gzip')\n",
    "y_val=pd.read_parquet('/mnt/data/interim/y_val.gzip')"
   ]
  },
  {
   "cell_type": "markdown",
   "id": "a1f43bd0",
   "metadata": {},
   "source": [
    "## Modélisation de l'indicatrice de sinistres"
   ]
  },
  {
   "cell_type": "code",
   "execution_count": 49,
   "id": "6a3f091f",
   "metadata": {},
   "outputs": [],
   "source": [
    "from imblearn.under_sampling import RandomUnderSampler\n",
    "from imblearn.pipeline import make_pipeline"
   ]
  },
  {
   "cell_type": "code",
   "execution_count": 55,
   "id": "89921921",
   "metadata": {},
   "outputs": [],
   "source": [
    "from sklearn.metrics import classification_report, precision_score, recall_score, f1_score, precision_recall_fscore_support"
   ]
  },
  {
   "cell_type": "code",
   "execution_count": 72,
   "id": "d3d671b9",
   "metadata": {},
   "outputs": [],
   "source": [
    "from hackathondsa_groupe4.scripts.train import trainPipelineMlFlow"
   ]
  },
  {
   "cell_type": "code",
   "execution_count": 47,
   "id": "75d7fdbe",
   "metadata": {},
   "outputs": [],
   "source": [
    "# Define categorical pipeline\n",
    "cat_pipe = Pipeline([('imputer', SimpleImputer(strategy='constant', fill_value='missing')),\n",
    "                     ('encoder', OneHotEncoder(handle_unknown='ignore', sparse=False))])\n",
    "\n",
    "# Define numerical pipeline\n",
    "num_pipe = Pipeline([('imputer', SimpleImputer(strategy='median')),\n",
    "                     ('scaler', MinMaxScaler())])\n",
    "\n",
    "num_pipe_binned = Pipeline([('imputer', SimpleImputer(strategy='median')),\n",
    "                     ('scaler', KBinsDiscretizer(n_bins=10))])\n",
    "\n",
    "num_pipe_log = Pipeline([('imputer', SimpleImputer(strategy='median')),\n",
    "                     ('scaler', KBinsDiscretizer(n_bins=10))])\n",
    "\n",
    "\n",
    "# Fit column transformer to training data\n",
    "preprocessor = ColumnTransformer(transformers=[('cat', cat_pipe, [\"FORMULE\", \"TYPE_RESIDENCE\", \"SITUATION_JURIDIQUE\",'NIVEAU_JURIDIQUE','OBJETS_DE_VALEUR', 'ZONIER', 'NBSIN_TYPE1_AN1', 'NBSIN_TYPE1_AN3', 'NBSIN_TYPE2_AN1',  'NBSIN_TYPE2_AN3']),\n",
    "                                               ('num_binned', num_pipe_binned, [\"VALEUR_DES_BIENS\"])],remainder='drop')"
   ]
  },
  {
   "cell_type": "code",
   "execution_count": 73,
   "id": "1a19d963",
   "metadata": {},
   "outputs": [],
   "source": [
    "class PipelineSW(Pipeline):\n",
    "    def fit(self, X, y, sample_weight=None):\n",
    "        \"\"\"Fit and pass sample weights only to the last step\"\"\"\n",
    "        if sample_weight is not None:\n",
    "            kwargs = {self.steps[-1][0] + '__sample_weight': sample_weight}\n",
    "        else:\n",
    "            kwargs = {}\n",
    "        return super().fit(X, y, **kwargs)"
   ]
  },
  {
   "cell_type": "code",
   "execution_count": 78,
   "id": "a1a7e76f",
   "metadata": {},
   "outputs": [],
   "source": [
    "from imblearn.pipeline import make_pipeline\n",
    "\n",
    "\n",
    "PipeClassif = PipelineSW(\n",
    "                steps=[\n",
    "                    ('preprocess', preprocessor), \n",
    "                    ('classif', RandomForestClassifier(n_estimators=50, max_depth=5,class_weight=\"balanced\"))\n",
    "                ]\n",
    ")\n"
   ]
  },
  {
   "cell_type": "code",
   "execution_count": 79,
   "id": "d1561cc3",
   "metadata": {},
   "outputs": [],
   "source": [
    "from imblearn.pipeline import make_pipeline\n",
    "\n",
    "PipeImb = make_pipeline(\n",
    "    RandomUnderSampler(random_state=0),\n",
    "    PipeClassif\n",
    ")"
   ]
  },
  {
   "cell_type": "code",
   "execution_count": 81,
   "id": "c3487206",
   "metadata": {},
   "outputs": [
    {
     "name": "stdout",
     "output_type": "stream",
     "text": [
      "Essai_imbalanced_2\n",
      "params:\n",
      "subset               train    test\n",
      "metric                            \n",
      "D² explained        0.5389  0.5388\n",
      "mean abs. error     0.4611  0.4612\n",
      "mean squared error  0.4611  0.4612\n",
      "elapsed time : 0:00:03.452119\n"
     ]
    }
   ],
   "source": [
    "model = trainPipelineMlFlow(\n",
    "    mlf_XP = 'Isin',\n",
    "    xp_name_iter= \"Essai_imbalanced_2\", \n",
    "    pipeline=PipeImb, \n",
    "    X_train=X_train, \n",
    "    y_train=y_train, \n",
    "    X_test=X_val, \n",
    "    y_test=y_val, \n",
    "    target_col='Isin', \n",
    "#    weight_col='EXPO',\n",
    "    use_weights=False\n",
    ")"
   ]
  },
  {
   "cell_type": "markdown",
   "id": "f8ca79be",
   "metadata": {},
   "source": [
    "### test sans undersampling"
   ]
  },
  {
   "cell_type": "code",
   "execution_count": 92,
   "id": "d8cbaf77",
   "metadata": {},
   "outputs": [],
   "source": [
    "from imblearn.pipeline import make_pipeline\n",
    "\n",
    "\n",
    "PipeClassif = PipelineSW(\n",
    "                steps=[\n",
    "                    ('preprocess', preprocessor), \n",
    "                    ('classif', RandomForestClassifier(n_estimators=50, max_depth=5,class_weight=\"balanced\"))\n",
    "                ]\n",
    ")\n"
   ]
  },
  {
   "cell_type": "code",
   "execution_count": 87,
   "id": "c93989e4",
   "metadata": {},
   "outputs": [],
   "source": [
    "from imblearn.pipeline import make_pipeline\n",
    "\n",
    "PipeImbStd = make_pipeline(\n",
    "#    RandomUnderSampler(random_state=0),\n",
    "    PipeClassif\n",
    ")"
   ]
  },
  {
   "cell_type": "code",
   "execution_count": 91,
   "id": "9948c617",
   "metadata": {},
   "outputs": [
    {
     "name": "stdout",
     "output_type": "stream",
     "text": [
      "Essai_sans_imbalanced_3\n",
      "params:\n",
      "subset               train    test\n",
      "metric                            \n",
      "D² explained        0.9827  0.9827\n",
      "mean abs. error     0.0173  0.0173\n",
      "mean squared error  0.0173  0.0173\n",
      "elapsed time : 0:00:05.365246\n"
     ]
    }
   ],
   "source": [
    "model = trainPipelineMlFlow(\n",
    "    mlf_XP = 'Isin',\n",
    "    xp_name_iter= \"Essai_sans_imbalanced_3\", \n",
    "    pipeline=PipeClassif, \n",
    "    X_train=X_train, \n",
    "    y_train=y_train, \n",
    "    X_test=X_val, \n",
    "    y_test=y_val, \n",
    "    target_col='Isin', \n",
    "#    weight_col='EXPO',\n",
    "    use_weights=False\n",
    ")"
   ]
  },
  {
   "cell_type": "code",
   "execution_count": null,
   "id": "fc709930",
   "metadata": {},
   "outputs": [],
   "source": []
  },
  {
   "cell_type": "markdown",
   "id": "395b5149",
   "metadata": {},
   "source": [
    "### test BalancedRandomForestClassifier"
   ]
  },
  {
   "cell_type": "code",
   "execution_count": 94,
   "id": "7e0f9496",
   "metadata": {},
   "outputs": [],
   "source": [
    "from imblearn.ensemble import BalancedRandomForestClassifier"
   ]
  },
  {
   "cell_type": "code",
   "execution_count": 95,
   "id": "a993fb37",
   "metadata": {},
   "outputs": [],
   "source": [
    "from imblearn.pipeline import make_pipeline\n",
    "\n",
    "\n",
    "PipeClassifBRC = PipelineSW(\n",
    "                steps=[\n",
    "                    ('preprocess', preprocessor), \n",
    "                    ('classif', BalancedRandomForestClassifier(n_estimators=100, random_state=0))\n",
    "                ]\n",
    ")\n"
   ]
  },
  {
   "cell_type": "code",
   "execution_count": 87,
   "id": "fb97f963",
   "metadata": {},
   "outputs": [],
   "source": [
    "from imblearn.pipeline import make_pipeline\n",
    "\n",
    "PipeImbStd = make_pipeline(\n",
    "#    RandomUnderSampler(random_state=0),\n",
    "    PipeClassif\n",
    ")"
   ]
  },
  {
   "cell_type": "code",
   "execution_count": 96,
   "id": "59f6abf9",
   "metadata": {},
   "outputs": [
    {
     "name": "stdout",
     "output_type": "stream",
     "text": [
      "Essai_sans_imbalanced_BRC\n",
      "params:\n",
      "subset               train   test\n",
      "metric                           \n",
      "D² explained        0.5329  0.522\n",
      "mean abs. error     0.4671  0.478\n",
      "mean squared error  0.4671  0.478\n",
      "elapsed time : 0:00:12.510962\n"
     ]
    }
   ],
   "source": [
    "model = trainPipelineMlFlow(\n",
    "    mlf_XP = 'Isin',\n",
    "    xp_name_iter= \"Essai_sans_imbalanced_BRC\", \n",
    "    pipeline=PipeClassifBRC, \n",
    "    X_train=X_train, \n",
    "    y_train=y_train, \n",
    "    X_test=X_val, \n",
    "    y_test=y_val, \n",
    "    target_col='Isin', \n",
    "#    weight_col='EXPO',\n",
    "    use_weights=False\n",
    ")"
   ]
  },
  {
   "cell_type": "markdown",
   "id": "f47d43fe",
   "metadata": {},
   "source": [
    "## Modélisation de la charge"
   ]
  },
  {
   "cell_type": "code",
   "execution_count": 164,
   "id": "67e62b5d",
   "metadata": {},
   "outputs": [],
   "source": [
    "X_train_chg = X_train[y_train['Isin']==1]\n",
    "X_val_chg = X_val[y_val['Isin']==1]\n",
    "y_train_chg= y_train[y_train['Isin']==1]\n",
    "y_val_chg = y_val[y_val['Isin']==1]"
   ]
  },
  {
   "cell_type": "markdown",
   "id": "9dec756d",
   "metadata": {},
   "source": [
    "### Utilisation d'un BalancedRandomForestRegressor"
   ]
  },
  {
   "cell_type": "code",
   "execution_count": 94,
   "id": "be638253",
   "metadata": {},
   "outputs": [],
   "source": [
    "from imblearn.ensemble import BalancedRandomForestClassifier"
   ]
  },
  {
   "cell_type": "code",
   "execution_count": 100,
   "id": "d152a467",
   "metadata": {},
   "outputs": [],
   "source": [
    "from imblearn.pipeline import make_pipeline\n",
    "\n",
    "\n",
    "PipeRegRF = PipelineSW(\n",
    "                steps=[\n",
    "                    ('preprocess', preprocessor), \n",
    "                    ('classif', RandomForestRegressor(n_estimators=100, random_state=0))\n",
    "                ]\n",
    ")\n"
   ]
  },
  {
   "cell_type": "code",
   "execution_count": 101,
   "id": "fee64f1f",
   "metadata": {},
   "outputs": [
    {
     "name": "stdout",
     "output_type": "stream",
     "text": [
      "INFO: 'Chg' does not exist. Creating a new experiment\n",
      "Essai_RF\n",
      "params:\n",
      "subset                     train          test\n",
      "metric                                        \n",
      "D² explained        5.653000e-01 -1.610000e-01\n",
      "mean abs. error     8.767360e+02  1.502462e+03\n",
      "mean squared error  2.456081e+06  7.839583e+06\n",
      "elapsed time : 0:00:01.054774\n"
     ]
    }
   ],
   "source": [
    "model = trainPipelineMlFlow(\n",
    "    mlf_XP = 'Chg',\n",
    "    xp_name_iter= \"Essai_RF\", \n",
    "    pipeline=PipeRegRF, \n",
    "    X_train=X_train_chg, \n",
    "    y_train=y_train_chg, \n",
    "    X_test=X_val_chg, \n",
    "    y_test=y_val_chg, \n",
    "    target_col='COUT', \n",
    "#    weight_col='EXPO',\n",
    "    use_weights=False\n",
    ")"
   ]
  },
  {
   "cell_type": "markdown",
   "id": "6eeb5a79",
   "metadata": {},
   "source": [
    "## Utilisation des variables retravaillées"
   ]
  },
  {
   "cell_type": "code",
   "execution_count": 146,
   "id": "78e56209",
   "metadata": {},
   "outputs": [],
   "source": [
    "from sklearn.base import BaseEstimator, TransformerMixin\n",
    "\n",
    "class TextSelector(BaseEstimator, TransformerMixin):\n",
    "    def __init__(self, field):\n",
    "        self.field = field\n",
    "    def fit(self, X, y=None):\n",
    "        return str(self)\n",
    "    def transform(self, X):\n",
    "        return str(X[self.field])"
   ]
  },
  {
   "cell_type": "code",
   "execution_count": 142,
   "id": "78ab12a7",
   "metadata": {},
   "outputs": [
    {
     "data": {
      "text/plain": [
       "('NB_PIECES', 'TYPE_HABITATION')"
      ]
     },
     "execution_count": 142,
     "metadata": {},
     "output_type": "execute_result"
    }
   ],
   "source": [
    "\"NB_PIECES\", \"TYPE_HABITATION\", "
   ]
  },
  {
   "cell_type": "code",
   "execution_count": 159,
   "id": "3d10a481",
   "metadata": {},
   "outputs": [],
   "source": [
    "# Define categorical pipeline\n",
    "cat_pipe = Pipeline([\n",
    " #                       ('text', TextSelector),\n",
    "#                        ('imputer', SimpleImputer(strategy='constant', fill_value='missing')),\n",
    "                        ('encoder', OneHotEncoder(handle_unknown='ignore', sparse=False))\n",
    "                    ])\n",
    "\n",
    "cat_ordinal_pipe = Pipeline([('imputer', SimpleImputer(strategy='constant', fill_value='missing')),\n",
    "                     ('encoder', OneHotEncoder(handle_unknown='ignore', sparse=False))])\n",
    "\n",
    "\n",
    "\n",
    "# Define numerical pipeline\n",
    "num_pipe = Pipeline([('imputer', SimpleImputer(missing_values=np.nan, strategy='median')),\n",
    "                     ('scaler', MinMaxScaler())])\n",
    "\n",
    "num_pipe_binned = Pipeline([('imputer', SimpleImputer(missing_values=np.nan, strategy='median')),\n",
    "                     ('scaler', KBinsDiscretizer(n_bins=10))])\n",
    "\n",
    "num_pipe_log = Pipeline([('imputer', SimpleImputer(missing_values=np.nan, strategy='median')),\n",
    "                     ('scaler', KBinsDiscretizer(n_bins=10))])\n",
    "\n",
    "\n",
    "# Fit column transformer to training data\n",
    "preprocessor2 = ColumnTransformer(\n",
    "                transformers=[\n",
    "                                ('cat', cat_pipe, [\"FORMULE\", \"TYPE_RESIDENCE\", \"NB_PIECES\", \"TYPE_HABITATION\", \"SITUATION_JURIDIQUE\",'OBJETS_DE_VALEUR', 'ZONIER_2', 'NBSIN_TYPE1_AN1_RECODE', 'NBSIN_TYPE1_AN3_RECODE']),\n",
    "                                #('ordinal', cat_ordinal_pipe, [\"NB_PIECES\"])\n",
    "                                ('num_binned', num_pipe_binned, [\"VALEUR_DES_BIENS\"])\n",
    "                ],remainder='drop'\n",
    "                )"
   ]
  },
  {
   "cell_type": "code",
   "execution_count": 160,
   "id": "067bad04",
   "metadata": {},
   "outputs": [],
   "source": [
    "PipeClassif2 = PipelineSW(\n",
    "                steps=[\n",
    "                    ('preprocess', preprocessor2), \n",
    "                    ('classif', RandomForestClassifier(n_estimators=50, max_depth=5,class_weight=\"balanced\"))\n",
    "                ]\n",
    ")\n"
   ]
  },
  {
   "cell_type": "code",
   "execution_count": 161,
   "id": "2820cc4f",
   "metadata": {},
   "outputs": [
    {
     "name": "stdout",
     "output_type": "stream",
     "text": [
      "Classif2\n",
      "params:\n",
      "subset               train    test\n",
      "metric                            \n",
      "D² explained        0.5199  0.5174\n",
      "mean abs. error     0.4801  0.4826\n",
      "mean squared error  0.4801  0.4826\n",
      "elapsed time : 0:00:03.965551\n"
     ]
    }
   ],
   "source": [
    "model = trainPipelineMlFlow(\n",
    "    mlf_XP = 'Isin',\n",
    "    xp_name_iter= \"Classif2\", \n",
    "    pipeline=PipeClassif2, \n",
    "    X_train=X_train, \n",
    "    y_train=y_train, \n",
    "    X_test=X_val, \n",
    "    y_test=y_val, \n",
    "    target_col='Isin', \n",
    "#    weight_col='EXPO',\n",
    "    use_weights=False\n",
    ")"
   ]
  },
  {
   "cell_type": "code",
   "execution_count": 162,
   "id": "6d91a088",
   "metadata": {},
   "outputs": [],
   "source": [
    "PipeRegRF2 = PipelineSW(\n",
    "                steps=[\n",
    "                    ('preprocess', preprocessor2), \n",
    "                    ('classif', RandomForestRegressor(n_estimators=100, random_state=0))\n",
    "                ]\n",
    ")\n"
   ]
  },
  {
   "cell_type": "code",
   "execution_count": 165,
   "id": "b76ebccc",
   "metadata": {},
   "outputs": [
    {
     "name": "stdout",
     "output_type": "stream",
     "text": [
      "Essai_RF2\n",
      "params:\n",
      "subset                     train          test\n",
      "metric                                        \n",
      "D² explained        3.307000e-01 -1.009000e-01\n",
      "mean abs. error     1.139951e+03  1.469016e+03\n",
      "mean squared error  3.781841e+06  7.433461e+06\n",
      "elapsed time : 0:00:00.508914\n"
     ]
    }
   ],
   "source": [
    "model = trainPipelineMlFlow(\n",
    "    mlf_XP = 'Chg',\n",
    "    xp_name_iter= \"Essai_RF2\", \n",
    "    pipeline=PipeRegRF2, \n",
    "    X_train=X_train_chg, \n",
    "    y_train=y_train_chg, \n",
    "    X_test=X_val_chg, \n",
    "    y_test=y_val_chg, \n",
    "    target_col='COUT', \n",
    "#    weight_col='EXPO',\n",
    "    use_weights=False\n",
    ")"
   ]
  },
  {
   "cell_type": "markdown",
   "id": "857c1236",
   "metadata": {},
   "source": [
    "## Essaie de rajoût de l'année pour absorber les effets d'inflation"
   ]
  },
  {
   "cell_type": "code",
   "execution_count": 167,
   "id": "7cba9933",
   "metadata": {},
   "outputs": [],
   "source": [
    "# Define categorical pipeline\n",
    "cat_pipe = Pipeline([\n",
    " #                       ('text', TextSelector),\n",
    "#                        ('imputer', SimpleImputer(strategy='constant', fill_value='missing')),\n",
    "                        ('encoder', OneHotEncoder(handle_unknown='ignore', sparse=False))\n",
    "                    ])\n",
    "\n",
    "cat_ordinal_pipe = Pipeline([('imputer', SimpleImputer(strategy='constant', fill_value='missing')),\n",
    "                     ('encoder', OneHotEncoder(handle_unknown='ignore', sparse=False))])\n",
    "\n",
    "\n",
    "\n",
    "# Define numerical pipeline\n",
    "num_pipe = Pipeline([('imputer', SimpleImputer(missing_values=np.nan, strategy='median')),\n",
    "                     ('scaler', MinMaxScaler())])\n",
    "\n",
    "num_pipe_binned = Pipeline([('imputer', SimpleImputer(missing_values=np.nan, strategy='median')),\n",
    "                     ('scaler', KBinsDiscretizer(n_bins=10))])\n",
    "\n",
    "num_pipe_log = Pipeline([('imputer', SimpleImputer(missing_values=np.nan, strategy='median')),\n",
    "                     ('scaler', KBinsDiscretizer(n_bins=10))])\n",
    "\n",
    "\n",
    "# Fit column transformer to training data\n",
    "preprocessor3 = ColumnTransformer(\n",
    "                transformers=[\n",
    "                                ('cat', cat_pipe, [\"ANNEE\",\"FORMULE\", \"TYPE_RESIDENCE\", \"NB_PIECES\", \"TYPE_HABITATION\", \"SITUATION_JURIDIQUE\",'OBJETS_DE_VALEUR', 'ZONIER_2', 'NBSIN_TYPE1_AN1_RECODE', 'NBSIN_TYPE1_AN3_RECODE']),\n",
    "                                #('ordinal', cat_ordinal_pipe, [\"NB_PIECES\"])\n",
    "                                ('num_binned', num_pipe_binned, [\"VALEUR_DES_BIENS\"])\n",
    "                ],remainder='drop'\n",
    "                )"
   ]
  },
  {
   "cell_type": "code",
   "execution_count": 168,
   "id": "4ded7d3e",
   "metadata": {},
   "outputs": [],
   "source": [
    "PipeClassif3 = PipelineSW(\n",
    "                steps=[\n",
    "                    ('preprocess', preprocessor2), \n",
    "                    ('classif', RandomForestClassifier(n_estimators=50, max_depth=5,class_weight=\"balanced\"))\n",
    "                ]\n",
    ")\n"
   ]
  },
  {
   "cell_type": "code",
   "execution_count": 169,
   "id": "f75a63af",
   "metadata": {},
   "outputs": [
    {
     "name": "stdout",
     "output_type": "stream",
     "text": [
      "Classif3\n",
      "params:\n",
      "subset               train    test\n",
      "metric                            \n",
      "D² explained        0.5509  0.5475\n",
      "mean abs. error     0.4491  0.4525\n",
      "mean squared error  0.4491  0.4525\n",
      "elapsed time : 0:00:03.881234\n"
     ]
    }
   ],
   "source": [
    "model = trainPipelineMlFlow(\n",
    "    mlf_XP = 'Isin',\n",
    "    xp_name_iter= \"Classif3\", \n",
    "    pipeline=PipeClassif3, \n",
    "    X_train=X_train, \n",
    "    y_train=y_train, \n",
    "    X_test=X_val, \n",
    "    y_test=y_val, \n",
    "    target_col='Isin', \n",
    "#    weight_col='EXPO',\n",
    "    use_weights=False\n",
    ")"
   ]
  },
  {
   "cell_type": "code",
   "execution_count": 170,
   "id": "0010e384",
   "metadata": {},
   "outputs": [],
   "source": [
    "PipeRegRF3 = PipelineSW(\n",
    "                steps=[\n",
    "                    ('preprocess', preprocessor3), \n",
    "                    ('classif', RandomForestRegressor(n_estimators=100, random_state=0))\n",
    "                ]\n",
    ")\n"
   ]
  },
  {
   "cell_type": "code",
   "execution_count": 171,
   "id": "2c834902",
   "metadata": {},
   "outputs": [
    {
     "name": "stdout",
     "output_type": "stream",
     "text": [
      "Essai_RF3\n",
      "params:\n",
      "subset                     train          test\n",
      "metric                                        \n",
      "D² explained        4.942000e-01 -2.158000e-01\n",
      "mean abs. error     9.867570e+02  1.576058e+03\n",
      "mean squared error  2.858103e+06  8.209609e+06\n",
      "elapsed time : 0:00:00.586785\n"
     ]
    }
   ],
   "source": [
    "model = trainPipelineMlFlow(\n",
    "    mlf_XP = 'Chg',\n",
    "    xp_name_iter= \"Essai_RF3\", \n",
    "    pipeline=PipeRegRF3, \n",
    "    X_train=X_train_chg, \n",
    "    y_train=y_train_chg, \n",
    "    X_test=X_val_chg, \n",
    "    y_test=y_val_chg, \n",
    "    target_col='COUT', \n",
    "#    weight_col='EXPO',\n",
    "    use_weights=False\n",
    ")"
   ]
  }
 ],
 "metadata": {
  "kernelspec": {
   "display_name": "Python 3",
   "language": "python",
   "name": "python3"
  },
  "language_info": {
   "codemirror_mode": {
    "name": "ipython",
    "version": 3
   },
   "file_extension": ".py",
   "mimetype": "text/x-python",
   "name": "python",
   "nbconvert_exporter": "python",
   "pygments_lexer": "ipython3",
   "version": "3.8.5"
  }
 },
 "nbformat": 4,
 "nbformat_minor": 5
}
