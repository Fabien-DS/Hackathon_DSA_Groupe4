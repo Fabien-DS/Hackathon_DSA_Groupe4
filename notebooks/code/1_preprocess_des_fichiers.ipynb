{
 "cells": [
  {
   "cell_type": "markdown",
   "id": "cb37264a",
   "metadata": {},
   "source": [
    "# Création des fichiers"
   ]
  },
  {
   "cell_type": "markdown",
   "id": "27a74da1",
   "metadata": {},
   "source": [
    "## Setup"
   ]
  },
  {
   "cell_type": "markdown",
   "id": "a53c2b5c",
   "metadata": {},
   "source": [
    "### Import des fichiers"
   ]
  },
  {
   "cell_type": "code",
   "execution_count": 40,
   "id": "8e36c7bb",
   "metadata": {},
   "outputs": [],
   "source": [
    "#Temps et fichiers\n",
    "import os\n",
    "import warnings\n",
    "import time\n",
    "from datetime import timedelta\n",
    "\n",
    "#Manipulation de données\n",
    "import pandas as pd\n",
    "import numpy as np\n",
    "from pandas_profiling import ProfileReport\n",
    "from functools import partial\n",
    "\n",
    "\n",
    "#Modélisation\n",
    "from sklearn.datasets import fetch_openml\n",
    "from sklearn.compose import ColumnTransformer\n",
    "from sklearn.linear_model import PoissonRegressor, GammaRegressor\n",
    "from sklearn.linear_model import TweedieRegressor\n",
    "from sklearn.metrics import mean_tweedie_deviance\n",
    "from sklearn.model_selection import train_test_split\n",
    "from sklearn.pipeline import make_pipeline\n",
    "from sklearn.preprocessing import FunctionTransformer, OneHotEncoder\n",
    "from sklearn.preprocessing import StandardScaler, KBinsDiscretizer\n",
    "\n",
    "from sklearn.metrics import mean_absolute_error, mean_squared_error, auc\n",
    "\n",
    "from sklearn.model_selection import train_test_split\n",
    "\n",
    "from sklearn.pipeline import Pipeline, FeatureUnion\n",
    "from sklearn.feature_extraction.text import TfidfVectorizer\n",
    "from sklearn.preprocessing import StandardScaler\n",
    "from sklearn.decomposition import TruncatedSVD\n",
    "from sklearn.ensemble import RandomForestClassifier\n",
    "from sklearn.base import BaseEstimator, TransformerMixin\n",
    "from sklearn.svm import LinearSVC\n",
    "from sklearn.model_selection import RandomizedSearchCV# the keys can be accessed with final_pipeline.get_params().keys()\n",
    "from sklearn.linear_model import LogisticRegression\n",
    "\n",
    "from xgboost import XGBClassifier\n",
    "\n",
    "#Text\n",
    "import re\n",
    "\n",
    "#Evaluation\n",
    "from sklearn.metrics import f1_score, confusion_matrix\n",
    "\n",
    "\n",
    "#Visualisation\n",
    "import matplotlib.pyplot as plt\n",
    "%matplotlib inline\n",
    "import seaborn as sns\n",
    "import plotly.express as px\n",
    "\n",
    "\n",
    "#Tracking d'expérience\n",
    "import mlflow\n",
    "import mlflow.sklearn"
   ]
  },
  {
   "cell_type": "markdown",
   "id": "bfc50acc",
   "metadata": {},
   "source": [
    "### Utilisation du code du projet packagé"
   ]
  },
  {
   "cell_type": "code",
   "execution_count": 41,
   "id": "5872e476",
   "metadata": {},
   "outputs": [
    {
     "name": "stdout",
     "output_type": "stream",
     "text": [
      "The autoreload extension is already loaded. To reload it, use:\n",
      "  %reload_ext autoreload\n"
     ]
    }
   ],
   "source": [
    "#Cette cellule permet d'appeler la version packagée du projet et d'en assurer le reload avant appel des fonctions\n",
    "%load_ext autoreload\n",
    "%autoreload 2"
   ]
  },
  {
   "cell_type": "markdown",
   "id": "74ce0754",
   "metadata": {},
   "source": [
    "### Configuration de l'experiment MLFlow"
   ]
  },
  {
   "cell_type": "code",
   "execution_count": 42,
   "id": "b80ccca7",
   "metadata": {},
   "outputs": [
    {
     "data": {
      "text/plain": [
       "'/mnt/experiments'"
      ]
     },
     "execution_count": 42,
     "metadata": {},
     "output_type": "execute_result"
    }
   ],
   "source": [
    "mlflow.tracking.get_tracking_uri()"
   ]
  },
  {
   "cell_type": "markdown",
   "id": "80001e7a",
   "metadata": {},
   "source": [
    "## Chargement des données brutes"
   ]
  },
  {
   "cell_type": "code",
   "execution_count": 43,
   "id": "c2377d2d",
   "metadata": {},
   "outputs": [
    {
     "data": {
      "text/plain": [
       "['/mnt/data/raw/Data',\n",
       " '/mnt/data/raw/Data.zip',\n",
       " '/mnt/data/raw/expo_test.csv',\n",
       " '/mnt/data/raw/expo_train.csv',\n",
       " '/mnt/data/raw/illustration',\n",
       " '/mnt/data/raw/primes2019.csv',\n",
       " '/mnt/data/raw/sin_train.csv']"
      ]
     },
     "execution_count": 43,
     "metadata": {},
     "output_type": "execute_result"
    }
   ],
   "source": [
    "data_folder = os.path.join('/mnt', 'data', 'raw')\n",
    "all_raw_files = [os.path.join(data_folder, fname)\n",
    "                    for fname in os.listdir(data_folder)]\n",
    "all_raw_files"
   ]
  },
  {
   "cell_type": "code",
   "execution_count": 103,
   "id": "77f17439",
   "metadata": {},
   "outputs": [],
   "source": [
    "random_state=42"
   ]
  },
  {
   "cell_type": "code",
   "execution_count": 104,
   "id": "250618d3",
   "metadata": {},
   "outputs": [],
   "source": [
    "expo_train = pd.read_csv('/mnt/data/raw/expo_train.csv', encoding='utf8', sep=',' )"
   ]
  },
  {
   "cell_type": "code",
   "execution_count": 105,
   "id": "7d52bf4d",
   "metadata": {},
   "outputs": [
    {
     "data": {
      "text/html": [
       "<div>\n",
       "<style scoped>\n",
       "    .dataframe tbody tr th:only-of-type {\n",
       "        vertical-align: middle;\n",
       "    }\n",
       "\n",
       "    .dataframe tbody tr th {\n",
       "        vertical-align: top;\n",
       "    }\n",
       "\n",
       "    .dataframe thead th {\n",
       "        text-align: right;\n",
       "    }\n",
       "</style>\n",
       "<table border=\"1\" class=\"dataframe\">\n",
       "  <thead>\n",
       "    <tr style=\"text-align: right;\">\n",
       "      <th></th>\n",
       "      <th>Unnamed: 0</th>\n",
       "      <th>EXPO</th>\n",
       "      <th>FORMULE</th>\n",
       "      <th>TYPE_RESIDENCE</th>\n",
       "      <th>TYPE_HABITATION</th>\n",
       "      <th>NB_PIECES</th>\n",
       "      <th>SITUATION_JURIDIQUE</th>\n",
       "      <th>NIVEAU_JURIDIQUE</th>\n",
       "      <th>VALEUR_DES_BIENS</th>\n",
       "      <th>OBJETS_DE_VALEUR</th>\n",
       "      <th>ZONIER</th>\n",
       "      <th>NBSIN_TYPE1_AN1</th>\n",
       "      <th>NBSIN_TYPE1_AN2</th>\n",
       "      <th>NBSIN_TYPE1_AN3</th>\n",
       "      <th>NBSIN_TYPE2_AN1</th>\n",
       "      <th>NBSIN_TYPE2_AN2</th>\n",
       "      <th>NBSIN_TYPE2_AN3</th>\n",
       "      <th>id</th>\n",
       "      <th>ANNEE</th>\n",
       "    </tr>\n",
       "  </thead>\n",
       "  <tbody>\n",
       "    <tr>\n",
       "      <th>0</th>\n",
       "      <td>384538</td>\n",
       "      <td>1.000000</td>\n",
       "      <td>MEDIUM</td>\n",
       "      <td>PRINCIPALE</td>\n",
       "      <td>APPARTEMENT</td>\n",
       "      <td>1.0</td>\n",
       "      <td>PROPRIO</td>\n",
       "      <td>JUR1</td>\n",
       "      <td>3500.0</td>\n",
       "      <td>NIVEAU_1</td>\n",
       "      <td>B40</td>\n",
       "      <td>0</td>\n",
       "      <td>1</td>\n",
       "      <td>0</td>\n",
       "      <td>0</td>\n",
       "      <td>0.0</td>\n",
       "      <td>0</td>\n",
       "      <td>5</td>\n",
       "      <td>2017</td>\n",
       "    </tr>\n",
       "    <tr>\n",
       "      <th>1</th>\n",
       "      <td>441079</td>\n",
       "      <td>0.824657</td>\n",
       "      <td>CONFORT</td>\n",
       "      <td>PRINCIPALE</td>\n",
       "      <td>MAISON</td>\n",
       "      <td>NaN</td>\n",
       "      <td>PROPRIO</td>\n",
       "      <td>JUR1</td>\n",
       "      <td>0.0</td>\n",
       "      <td>NIVEAU_1</td>\n",
       "      <td>A11</td>\n",
       "      <td>0</td>\n",
       "      <td>1</td>\n",
       "      <td>0</td>\n",
       "      <td>0</td>\n",
       "      <td>0.0</td>\n",
       "      <td>0</td>\n",
       "      <td>9</td>\n",
       "      <td>2018</td>\n",
       "    </tr>\n",
       "    <tr>\n",
       "      <th>2</th>\n",
       "      <td>119668</td>\n",
       "      <td>1.000000</td>\n",
       "      <td>ESSENTIEL</td>\n",
       "      <td>PRINCIPALE</td>\n",
       "      <td>APPARTEMENT</td>\n",
       "      <td>3.0</td>\n",
       "      <td>LOCATAIRE</td>\n",
       "      <td>JUR1</td>\n",
       "      <td>35000.0</td>\n",
       "      <td>NIVEAU_1</td>\n",
       "      <td>B32</td>\n",
       "      <td>0</td>\n",
       "      <td>1</td>\n",
       "      <td>0</td>\n",
       "      <td>0</td>\n",
       "      <td>0.0</td>\n",
       "      <td>0</td>\n",
       "      <td>11</td>\n",
       "      <td>2017</td>\n",
       "    </tr>\n",
       "    <tr>\n",
       "      <th>3</th>\n",
       "      <td>5124</td>\n",
       "      <td>1.000000</td>\n",
       "      <td>ESSENTIEL</td>\n",
       "      <td>SECONDAIRE</td>\n",
       "      <td>MAISON</td>\n",
       "      <td>2.0</td>\n",
       "      <td>LOCATAIRE</td>\n",
       "      <td>JUR1</td>\n",
       "      <td>9000.0</td>\n",
       "      <td>NIVEAU_1</td>\n",
       "      <td>C24</td>\n",
       "      <td>0</td>\n",
       "      <td>1</td>\n",
       "      <td>0</td>\n",
       "      <td>0</td>\n",
       "      <td>0.0</td>\n",
       "      <td>0</td>\n",
       "      <td>13</td>\n",
       "      <td>2018</td>\n",
       "    </tr>\n",
       "    <tr>\n",
       "      <th>4</th>\n",
       "      <td>130065</td>\n",
       "      <td>1.000000</td>\n",
       "      <td>ESSENTIEL</td>\n",
       "      <td>PRINCIPALE</td>\n",
       "      <td>MAISON</td>\n",
       "      <td>1.0</td>\n",
       "      <td>LOCATAIRE</td>\n",
       "      <td>JUR1</td>\n",
       "      <td>20000.0</td>\n",
       "      <td>NIVEAU_1</td>\n",
       "      <td>C9</td>\n",
       "      <td>0</td>\n",
       "      <td>1</td>\n",
       "      <td>0</td>\n",
       "      <td>0</td>\n",
       "      <td>0.0</td>\n",
       "      <td>0</td>\n",
       "      <td>14</td>\n",
       "      <td>2017</td>\n",
       "    </tr>\n",
       "  </tbody>\n",
       "</table>\n",
       "</div>"
      ],
      "text/plain": [
       "   Unnamed: 0      EXPO    FORMULE TYPE_RESIDENCE TYPE_HABITATION  NB_PIECES  \\\n",
       "0      384538  1.000000     MEDIUM     PRINCIPALE     APPARTEMENT        1.0   \n",
       "1      441079  0.824657    CONFORT     PRINCIPALE          MAISON        NaN   \n",
       "2      119668  1.000000  ESSENTIEL     PRINCIPALE     APPARTEMENT        3.0   \n",
       "3        5124  1.000000  ESSENTIEL     SECONDAIRE          MAISON        2.0   \n",
       "4      130065  1.000000  ESSENTIEL     PRINCIPALE          MAISON        1.0   \n",
       "\n",
       "  SITUATION_JURIDIQUE NIVEAU_JURIDIQUE  VALEUR_DES_BIENS OBJETS_DE_VALEUR  \\\n",
       "0             PROPRIO             JUR1            3500.0         NIVEAU_1   \n",
       "1             PROPRIO             JUR1               0.0         NIVEAU_1   \n",
       "2           LOCATAIRE             JUR1           35000.0         NIVEAU_1   \n",
       "3           LOCATAIRE             JUR1            9000.0         NIVEAU_1   \n",
       "4           LOCATAIRE             JUR1           20000.0         NIVEAU_1   \n",
       "\n",
       "  ZONIER  NBSIN_TYPE1_AN1  NBSIN_TYPE1_AN2  NBSIN_TYPE1_AN3  NBSIN_TYPE2_AN1  \\\n",
       "0    B40                0                1                0                0   \n",
       "1    A11                0                1                0                0   \n",
       "2    B32                0                1                0                0   \n",
       "3    C24                0                1                0                0   \n",
       "4     C9                0                1                0                0   \n",
       "\n",
       "   NBSIN_TYPE2_AN2  NBSIN_TYPE2_AN3  id  ANNEE  \n",
       "0              0.0                0   5   2017  \n",
       "1              0.0                0   9   2018  \n",
       "2              0.0                0  11   2017  \n",
       "3              0.0                0  13   2018  \n",
       "4              0.0                0  14   2017  "
      ]
     },
     "execution_count": 105,
     "metadata": {},
     "output_type": "execute_result"
    }
   ],
   "source": [
    "expo_train.head()"
   ]
  },
  {
   "cell_type": "code",
   "execution_count": 106,
   "id": "9f146660",
   "metadata": {},
   "outputs": [
    {
     "data": {
      "text/html": [
       "<div>\n",
       "<style scoped>\n",
       "    .dataframe tbody tr th:only-of-type {\n",
       "        vertical-align: middle;\n",
       "    }\n",
       "\n",
       "    .dataframe tbody tr th {\n",
       "        vertical-align: top;\n",
       "    }\n",
       "\n",
       "    .dataframe thead th {\n",
       "        text-align: right;\n",
       "    }\n",
       "</style>\n",
       "<table border=\"1\" class=\"dataframe\">\n",
       "  <thead>\n",
       "    <tr style=\"text-align: right;\">\n",
       "      <th></th>\n",
       "      <th>Unnamed: 0</th>\n",
       "      <th>EXPO</th>\n",
       "      <th>FORMULE</th>\n",
       "      <th>TYPE_RESIDENCE</th>\n",
       "      <th>TYPE_HABITATION</th>\n",
       "      <th>NB_PIECES</th>\n",
       "      <th>SITUATION_JURIDIQUE</th>\n",
       "      <th>NIVEAU_JURIDIQUE</th>\n",
       "      <th>VALEUR_DES_BIENS</th>\n",
       "      <th>OBJETS_DE_VALEUR</th>\n",
       "      <th>ZONIER</th>\n",
       "      <th>NBSIN_TYPE1_AN1</th>\n",
       "      <th>NBSIN_TYPE1_AN2</th>\n",
       "      <th>NBSIN_TYPE1_AN3</th>\n",
       "      <th>NBSIN_TYPE2_AN1</th>\n",
       "      <th>NBSIN_TYPE2_AN2</th>\n",
       "      <th>NBSIN_TYPE2_AN3</th>\n",
       "      <th>id</th>\n",
       "      <th>ANNEE</th>\n",
       "    </tr>\n",
       "  </thead>\n",
       "  <tbody>\n",
       "    <tr>\n",
       "      <th>0</th>\n",
       "      <td>141755</td>\n",
       "      <td>1.000000</td>\n",
       "      <td>CONFORT</td>\n",
       "      <td>PRINCIPALE</td>\n",
       "      <td>APPARTEMENT</td>\n",
       "      <td>4.0</td>\n",
       "      <td>LOCATAIRE</td>\n",
       "      <td>JUR1</td>\n",
       "      <td>35000.0</td>\n",
       "      <td>NIVEAU_1</td>\n",
       "      <td>B43</td>\n",
       "      <td>0</td>\n",
       "      <td>1</td>\n",
       "      <td>0</td>\n",
       "      <td>0</td>\n",
       "      <td>NaN</td>\n",
       "      <td>0</td>\n",
       "      <td>2</td>\n",
       "      <td>2019</td>\n",
       "    </tr>\n",
       "    <tr>\n",
       "      <th>1</th>\n",
       "      <td>81642</td>\n",
       "      <td>0.468493</td>\n",
       "      <td>CONFORT</td>\n",
       "      <td>SECONDAIRE</td>\n",
       "      <td>MAISON</td>\n",
       "      <td>1.0</td>\n",
       "      <td>PROPRIO</td>\n",
       "      <td>JUR1</td>\n",
       "      <td>0.0</td>\n",
       "      <td>NIVEAU_1</td>\n",
       "      <td>C22</td>\n",
       "      <td>0</td>\n",
       "      <td>1</td>\n",
       "      <td>0</td>\n",
       "      <td>0</td>\n",
       "      <td>0.0</td>\n",
       "      <td>0</td>\n",
       "      <td>10</td>\n",
       "      <td>2019</td>\n",
       "    </tr>\n",
       "    <tr>\n",
       "      <th>2</th>\n",
       "      <td>60207</td>\n",
       "      <td>0.852055</td>\n",
       "      <td>ESSENTIEL</td>\n",
       "      <td>PRINCIPALE</td>\n",
       "      <td>APPARTEMENT</td>\n",
       "      <td>0.0</td>\n",
       "      <td>PROPRIO</td>\n",
       "      <td>JUR1</td>\n",
       "      <td>0.0</td>\n",
       "      <td>NIVEAU_1</td>\n",
       "      <td>B32</td>\n",
       "      <td>0</td>\n",
       "      <td>1</td>\n",
       "      <td>0</td>\n",
       "      <td>0</td>\n",
       "      <td>0.0</td>\n",
       "      <td>0</td>\n",
       "      <td>18</td>\n",
       "      <td>2019</td>\n",
       "    </tr>\n",
       "    <tr>\n",
       "      <th>3</th>\n",
       "      <td>164160</td>\n",
       "      <td>1.000000</td>\n",
       "      <td>CONFORT</td>\n",
       "      <td>PRINCIPALE</td>\n",
       "      <td>APPARTEMENT</td>\n",
       "      <td>3.0</td>\n",
       "      <td>LOCATAIRE</td>\n",
       "      <td>JUR1</td>\n",
       "      <td>50000.0</td>\n",
       "      <td>NIVEAU_1</td>\n",
       "      <td>C6</td>\n",
       "      <td>0</td>\n",
       "      <td>1</td>\n",
       "      <td>1</td>\n",
       "      <td>0</td>\n",
       "      <td>0.0</td>\n",
       "      <td>0</td>\n",
       "      <td>19</td>\n",
       "      <td>2019</td>\n",
       "    </tr>\n",
       "    <tr>\n",
       "      <th>4</th>\n",
       "      <td>33416</td>\n",
       "      <td>0.079452</td>\n",
       "      <td>CONFORT</td>\n",
       "      <td>SECONDAIRE</td>\n",
       "      <td>MAISON</td>\n",
       "      <td>1.0</td>\n",
       "      <td>PROPRIO</td>\n",
       "      <td>JUR1</td>\n",
       "      <td>9000.0</td>\n",
       "      <td>NIVEAU_1</td>\n",
       "      <td>C6</td>\n",
       "      <td>0</td>\n",
       "      <td>1</td>\n",
       "      <td>0</td>\n",
       "      <td>0</td>\n",
       "      <td>0.0</td>\n",
       "      <td>0</td>\n",
       "      <td>39</td>\n",
       "      <td>2019</td>\n",
       "    </tr>\n",
       "  </tbody>\n",
       "</table>\n",
       "</div>"
      ],
      "text/plain": [
       "   Unnamed: 0      EXPO    FORMULE TYPE_RESIDENCE TYPE_HABITATION  NB_PIECES  \\\n",
       "0      141755  1.000000    CONFORT     PRINCIPALE     APPARTEMENT        4.0   \n",
       "1       81642  0.468493    CONFORT     SECONDAIRE          MAISON        1.0   \n",
       "2       60207  0.852055  ESSENTIEL     PRINCIPALE     APPARTEMENT        0.0   \n",
       "3      164160  1.000000    CONFORT     PRINCIPALE     APPARTEMENT        3.0   \n",
       "4       33416  0.079452    CONFORT     SECONDAIRE          MAISON        1.0   \n",
       "\n",
       "  SITUATION_JURIDIQUE NIVEAU_JURIDIQUE  VALEUR_DES_BIENS OBJETS_DE_VALEUR  \\\n",
       "0           LOCATAIRE             JUR1           35000.0         NIVEAU_1   \n",
       "1             PROPRIO             JUR1               0.0         NIVEAU_1   \n",
       "2             PROPRIO             JUR1               0.0         NIVEAU_1   \n",
       "3           LOCATAIRE             JUR1           50000.0         NIVEAU_1   \n",
       "4             PROPRIO             JUR1            9000.0         NIVEAU_1   \n",
       "\n",
       "  ZONIER  NBSIN_TYPE1_AN1  NBSIN_TYPE1_AN2  NBSIN_TYPE1_AN3  NBSIN_TYPE2_AN1  \\\n",
       "0    B43                0                1                0                0   \n",
       "1    C22                0                1                0                0   \n",
       "2    B32                0                1                0                0   \n",
       "3     C6                0                1                1                0   \n",
       "4     C6                0                1                0                0   \n",
       "\n",
       "   NBSIN_TYPE2_AN2  NBSIN_TYPE2_AN3  id  ANNEE  \n",
       "0              NaN                0   2   2019  \n",
       "1              0.0                0  10   2019  \n",
       "2              0.0                0  18   2019  \n",
       "3              0.0                0  19   2019  \n",
       "4              0.0                0  39   2019  "
      ]
     },
     "execution_count": 106,
     "metadata": {},
     "output_type": "execute_result"
    }
   ],
   "source": [
    "expo_test = pd.read_csv('/mnt/data/raw/expo_test.csv', encoding='utf8', sep=',' )\n",
    "expo_test.head()"
   ]
  },
  {
   "cell_type": "code",
   "execution_count": 107,
   "id": "b629ceec",
   "metadata": {},
   "outputs": [
    {
     "data": {
      "text/html": [
       "<div>\n",
       "<style scoped>\n",
       "    .dataframe tbody tr th:only-of-type {\n",
       "        vertical-align: middle;\n",
       "    }\n",
       "\n",
       "    .dataframe tbody tr th {\n",
       "        vertical-align: top;\n",
       "    }\n",
       "\n",
       "    .dataframe thead th {\n",
       "        text-align: right;\n",
       "    }\n",
       "</style>\n",
       "<table border=\"1\" class=\"dataframe\">\n",
       "  <thead>\n",
       "    <tr style=\"text-align: right;\">\n",
       "      <th></th>\n",
       "      <th>id</th>\n",
       "      <th>NB</th>\n",
       "      <th>COUT</th>\n",
       "      <th>ANNEE</th>\n",
       "    </tr>\n",
       "  </thead>\n",
       "  <tbody>\n",
       "    <tr>\n",
       "      <th>0</th>\n",
       "      <td>15</td>\n",
       "      <td>1</td>\n",
       "      <td>521.43</td>\n",
       "      <td>2017</td>\n",
       "    </tr>\n",
       "    <tr>\n",
       "      <th>1</th>\n",
       "      <td>277</td>\n",
       "      <td>1</td>\n",
       "      <td>3000.19</td>\n",
       "      <td>2016</td>\n",
       "    </tr>\n",
       "    <tr>\n",
       "      <th>2</th>\n",
       "      <td>643</td>\n",
       "      <td>1</td>\n",
       "      <td>26.33</td>\n",
       "      <td>2018</td>\n",
       "    </tr>\n",
       "    <tr>\n",
       "      <th>3</th>\n",
       "      <td>668</td>\n",
       "      <td>1</td>\n",
       "      <td>462.36</td>\n",
       "      <td>2017</td>\n",
       "    </tr>\n",
       "    <tr>\n",
       "      <th>4</th>\n",
       "      <td>730</td>\n",
       "      <td>1</td>\n",
       "      <td>640.88</td>\n",
       "      <td>2018</td>\n",
       "    </tr>\n",
       "  </tbody>\n",
       "</table>\n",
       "</div>"
      ],
      "text/plain": [
       "    id  NB     COUT  ANNEE\n",
       "0   15   1   521.43   2017\n",
       "1  277   1  3000.19   2016\n",
       "2  643   1    26.33   2018\n",
       "3  668   1   462.36   2017\n",
       "4  730   1   640.88   2018"
      ]
     },
     "execution_count": 107,
     "metadata": {},
     "output_type": "execute_result"
    }
   ],
   "source": [
    "sin_train = pd.read_csv('/mnt/data/raw/sin_train.csv', encoding='utf8', sep=';', decimal=',' )\n",
    "sin_train.head()"
   ]
  },
  {
   "cell_type": "code",
   "execution_count": 108,
   "id": "802effa7",
   "metadata": {},
   "outputs": [
    {
     "data": {
      "text/html": [
       "<div>\n",
       "<style scoped>\n",
       "    .dataframe tbody tr th:only-of-type {\n",
       "        vertical-align: middle;\n",
       "    }\n",
       "\n",
       "    .dataframe tbody tr th {\n",
       "        vertical-align: top;\n",
       "    }\n",
       "\n",
       "    .dataframe thead th {\n",
       "        text-align: right;\n",
       "    }\n",
       "</style>\n",
       "<table border=\"1\" class=\"dataframe\">\n",
       "  <thead>\n",
       "    <tr style=\"text-align: right;\">\n",
       "      <th></th>\n",
       "      <th>id</th>\n",
       "      <th>prime</th>\n",
       "    </tr>\n",
       "  </thead>\n",
       "  <tbody>\n",
       "    <tr>\n",
       "      <th>0</th>\n",
       "      <td>1000001</td>\n",
       "      <td>81.878323</td>\n",
       "    </tr>\n",
       "    <tr>\n",
       "      <th>1</th>\n",
       "      <td>1000002</td>\n",
       "      <td>92.986674</td>\n",
       "    </tr>\n",
       "    <tr>\n",
       "      <th>2</th>\n",
       "      <td>1000003</td>\n",
       "      <td>34.635234</td>\n",
       "    </tr>\n",
       "    <tr>\n",
       "      <th>3</th>\n",
       "      <td>1000004</td>\n",
       "      <td>70.135502</td>\n",
       "    </tr>\n",
       "  </tbody>\n",
       "</table>\n",
       "</div>"
      ],
      "text/plain": [
       "        id      prime\n",
       "0  1000001  81.878323\n",
       "1  1000002  92.986674\n",
       "2  1000003  34.635234\n",
       "3  1000004  70.135502"
      ]
     },
     "execution_count": 108,
     "metadata": {},
     "output_type": "execute_result"
    }
   ],
   "source": [
    "primes2019 = pd.read_csv('/mnt/data/raw/primes2019.csv', encoding='utf8', sep=';', decimal=',' )\n",
    "primes2019.head()"
   ]
  },
  {
   "cell_type": "markdown",
   "id": "8bff1122",
   "metadata": {},
   "source": [
    "### Problème non résolu"
   ]
  },
  {
   "cell_type": "markdown",
   "id": "26936c23",
   "metadata": {},
   "source": [
    "La lecture du fichier dans un DataFrame renvoie un format `objet` pour les champs texte.\n",
    "\n",
    "Ca nous a posé des problèmes dans les pipelines par la suite\n",
    "\n",
    "On n'a pas été capable de les retransformer en de vrais champs texte"
   ]
  },
  {
   "cell_type": "code",
   "execution_count": 120,
   "id": "8ddbd268",
   "metadata": {},
   "outputs": [
    {
     "name": "stdout",
     "output_type": "stream",
     "text": [
      "<class 'pandas.core.frame.DataFrame'>\n",
      "RangeIndex: 155651 entries, 0 to 155650\n",
      "Data columns (total 20 columns):\n",
      " #   Column                  Non-Null Count   Dtype  \n",
      "---  ------                  --------------   -----  \n",
      " 0   EXPO                    155651 non-null  float64\n",
      " 1   FORMULE                 155651 non-null  object \n",
      " 2   TYPE_RESIDENCE          155651 non-null  object \n",
      " 3   TYPE_HABITATION         155651 non-null  object \n",
      " 4   NB_PIECES               146301 non-null  float64\n",
      " 5   SITUATION_JURIDIQUE     155651 non-null  object \n",
      " 6   NIVEAU_JURIDIQUE        155651 non-null  object \n",
      " 7   VALEUR_DES_BIENS        155651 non-null  float64\n",
      " 8   OBJETS_DE_VALEUR        155651 non-null  object \n",
      " 9   ZONIER                  155651 non-null  object \n",
      " 10  NBSIN_TYPE1_AN1         155651 non-null  int64  \n",
      " 11  NBSIN_TYPE1_AN3         155651 non-null  int64  \n",
      " 12  NBSIN_TYPE2_AN1         155651 non-null  int64  \n",
      " 13  NBSIN_TYPE2_AN2         138509 non-null  float64\n",
      " 14  NBSIN_TYPE2_AN3         155651 non-null  int64  \n",
      " 15  id                      155651 non-null  int64  \n",
      " 16  ANNEE                   155651 non-null  int64  \n",
      " 17  ZONIER_2                155651 non-null  object \n",
      " 18  NBSIN_TYPE1_AN1_RECODE  155651 non-null  int64  \n",
      " 19  NBSIN_TYPE1_AN3_RECODE  155651 non-null  int64  \n",
      "dtypes: float64(4), int64(8), object(8)\n",
      "memory usage: 23.8+ MB\n"
     ]
    }
   ],
   "source": [
    "expo_train.info()"
   ]
  },
  {
   "cell_type": "code",
   "execution_count": 130,
   "id": "14bde9f4",
   "metadata": {},
   "outputs": [
    {
     "name": "stdout",
     "output_type": "stream",
     "text": [
      "<class 'pandas.core.frame.DataFrame'>\n",
      "RangeIndex: 155651 entries, 0 to 155650\n",
      "Data columns (total 20 columns):\n",
      " #   Column                  Non-Null Count   Dtype  \n",
      "---  ------                  --------------   -----  \n",
      " 0   EXPO                    155651 non-null  float64\n",
      " 1   FORMULE                 155651 non-null  object \n",
      " 2   TYPE_RESIDENCE          155651 non-null  object \n",
      " 3   TYPE_HABITATION         155651 non-null  object \n",
      " 4   NB_PIECES               146301 non-null  float64\n",
      " 5   SITUATION_JURIDIQUE     155651 non-null  object \n",
      " 6   NIVEAU_JURIDIQUE        155651 non-null  object \n",
      " 7   VALEUR_DES_BIENS        155651 non-null  float64\n",
      " 8   OBJETS_DE_VALEUR        155651 non-null  object \n",
      " 9   ZONIER                  155651 non-null  object \n",
      " 10  NBSIN_TYPE1_AN1         155651 non-null  int64  \n",
      " 11  NBSIN_TYPE1_AN3         155651 non-null  int64  \n",
      " 12  NBSIN_TYPE2_AN1         155651 non-null  int64  \n",
      " 13  NBSIN_TYPE2_AN2         138509 non-null  float64\n",
      " 14  NBSIN_TYPE2_AN3         155651 non-null  int64  \n",
      " 15  id                      155651 non-null  int64  \n",
      " 16  ANNEE                   155651 non-null  int64  \n",
      " 17  ZONIER_2                155651 non-null  object \n",
      " 18  NBSIN_TYPE1_AN1_RECODE  155651 non-null  int64  \n",
      " 19  NBSIN_TYPE1_AN3_RECODE  155651 non-null  int64  \n",
      "dtypes: float64(4), int64(8), object(8)\n",
      "memory usage: 23.8+ MB\n",
      "None\n",
      "<class 'pandas.core.frame.DataFrame'>\n",
      "RangeIndex: 155651 entries, 0 to 155650\n",
      "Data columns (total 8 columns):\n",
      " #   Column               Non-Null Count   Dtype \n",
      "---  ------               --------------   ----- \n",
      " 0   FORMULE              155651 non-null  object\n",
      " 1   TYPE_RESIDENCE       155651 non-null  object\n",
      " 2   TYPE_HABITATION      155651 non-null  object\n",
      " 3   SITUATION_JURIDIQUE  155651 non-null  object\n",
      " 4   NIVEAU_JURIDIQUE     155651 non-null  object\n",
      " 5   OBJETS_DE_VALEUR     155651 non-null  object\n",
      " 6   ZONIER               155651 non-null  object\n",
      " 7   ZONIER_2             155651 non-null  object\n",
      "dtypes: object(8)\n",
      "memory usage: 9.5+ MB\n",
      "None\n"
     ]
    }
   ],
   "source": [
    "df=expo_train\n",
    "print(df.info())\n",
    "for col in list(df.select_dtypes('object').columns):\n",
    "    df[col]=str(df[col])\n",
    "#df[list(df.select_dtypes('object').columns)]=pd.Series()\n",
    "print(df[list(df.select_dtypes('object').columns)].info())\n"
   ]
  },
  {
   "cell_type": "markdown",
   "id": "3ca05d80",
   "metadata": {},
   "source": [
    "## Premier EDA rapide"
   ]
  },
  {
   "cell_type": "markdown",
   "id": "0615f54e",
   "metadata": {},
   "source": [
    "On commence par créer un profile report pour se donner une idée"
   ]
  },
  {
   "cell_type": "code",
   "execution_count": 50,
   "id": "cc36aa4f",
   "metadata": {},
   "outputs": [
    {
     "data": {
      "application/vnd.jupyter.widget-view+json": {
       "model_id": "7c86dbfa0e154e539efd83877d6fe6c3",
       "version_major": 2,
       "version_minor": 0
      },
      "text/plain": [
       "Summarize dataset:   0%|          | 0/32 [00:00<?, ?it/s]"
      ]
     },
     "metadata": {},
     "output_type": "display_data"
    },
    {
     "name": "stderr",
     "output_type": "stream",
     "text": [
      "/usr/local/lib/python3.8/dist-packages/scipy/stats/stats.py:4594: RuntimeWarning: overflow encountered in long_scalars\n",
      "  (2 * xtie * ytie) / m + x0 * y0 / (9 * m * (size - 2)))\n"
     ]
    },
    {
     "data": {
      "application/vnd.jupyter.widget-view+json": {
       "model_id": "44b260db48244dedbcc8674a7336b8eb",
       "version_major": 2,
       "version_minor": 0
      },
      "text/plain": [
       "Generate report structure:   0%|          | 0/1 [00:00<?, ?it/s]"
      ]
     },
     "metadata": {},
     "output_type": "display_data"
    },
    {
     "data": {
      "application/vnd.jupyter.widget-view+json": {
       "model_id": "a9eed3b4cfb14768ab24f1c427501dc8",
       "version_major": 2,
       "version_minor": 0
      },
      "text/plain": [
       "Render HTML:   0%|          | 0/1 [00:00<?, ?it/s]"
      ]
     },
     "metadata": {},
     "output_type": "display_data"
    },
    {
     "data": {
      "application/vnd.jupyter.widget-view+json": {
       "model_id": "7129f8f134214ebbbf1d0ad995bd9c95",
       "version_major": 2,
       "version_minor": 0
      },
      "text/plain": [
       "Export report to file:   0%|          | 0/1 [00:00<?, ?it/s]"
      ]
     },
     "metadata": {},
     "output_type": "display_data"
    }
   ],
   "source": [
    "pr = ProfileReport(expo_train).to_file(output_file='expo_train.html')"
   ]
  },
  {
   "cell_type": "code",
   "execution_count": 51,
   "id": "5453bc09",
   "metadata": {},
   "outputs": [
    {
     "data": {
      "application/vnd.jupyter.widget-view+json": {
       "model_id": "6c5d54357f934ad6b19ede35d082600a",
       "version_major": 2,
       "version_minor": 0
      },
      "text/plain": [
       "Summarize dataset:   0%|          | 0/32 [00:00<?, ?it/s]"
      ]
     },
     "metadata": {},
     "output_type": "display_data"
    },
    {
     "data": {
      "application/vnd.jupyter.widget-view+json": {
       "model_id": "c1ca84b6049c4c7a8c6d834df9103a28",
       "version_major": 2,
       "version_minor": 0
      },
      "text/plain": [
       "Generate report structure:   0%|          | 0/1 [00:00<?, ?it/s]"
      ]
     },
     "metadata": {},
     "output_type": "display_data"
    },
    {
     "data": {
      "application/vnd.jupyter.widget-view+json": {
       "model_id": "48c7bde6352c4d3981eda69dd3bbf7c3",
       "version_major": 2,
       "version_minor": 0
      },
      "text/plain": [
       "Render HTML:   0%|          | 0/1 [00:00<?, ?it/s]"
      ]
     },
     "metadata": {},
     "output_type": "display_data"
    },
    {
     "data": {
      "application/vnd.jupyter.widget-view+json": {
       "model_id": "5ebb351ed8af4788839d643a4336daf1",
       "version_major": 2,
       "version_minor": 0
      },
      "text/plain": [
       "Export report to file:   0%|          | 0/1 [00:00<?, ?it/s]"
      ]
     },
     "metadata": {},
     "output_type": "display_data"
    }
   ],
   "source": [
    "pr = ProfileReport(expo_test).to_file(output_file='expo_test.html')"
   ]
  },
  {
   "cell_type": "code",
   "execution_count": 52,
   "id": "8f3f6c6a",
   "metadata": {},
   "outputs": [
    {
     "data": {
      "application/vnd.jupyter.widget-view+json": {
       "model_id": "953594b926f9406a93863e2663564116",
       "version_major": 2,
       "version_minor": 0
      },
      "text/plain": [
       "Summarize dataset:   0%|          | 0/17 [00:00<?, ?it/s]"
      ]
     },
     "metadata": {},
     "output_type": "display_data"
    },
    {
     "data": {
      "application/vnd.jupyter.widget-view+json": {
       "model_id": "2e84a700f7c24b2ca21eb13af16f34b6",
       "version_major": 2,
       "version_minor": 0
      },
      "text/plain": [
       "Generate report structure:   0%|          | 0/1 [00:00<?, ?it/s]"
      ]
     },
     "metadata": {},
     "output_type": "display_data"
    },
    {
     "data": {
      "application/vnd.jupyter.widget-view+json": {
       "model_id": "6002dac64e184c698beedab4aec562d7",
       "version_major": 2,
       "version_minor": 0
      },
      "text/plain": [
       "Render HTML:   0%|          | 0/1 [00:00<?, ?it/s]"
      ]
     },
     "metadata": {},
     "output_type": "display_data"
    },
    {
     "data": {
      "application/vnd.jupyter.widget-view+json": {
       "model_id": "db72e2bc104f4f9d8d47d61689dadb71",
       "version_major": 2,
       "version_minor": 0
      },
      "text/plain": [
       "Export report to file:   0%|          | 0/1 [00:00<?, ?it/s]"
      ]
     },
     "metadata": {},
     "output_type": "display_data"
    }
   ],
   "source": [
    "pr = ProfileReport(sin_train).to_file(output_file='sin_train.html')"
   ]
  },
  {
   "cell_type": "markdown",
   "id": "4aae5576",
   "metadata": {},
   "source": [
    "### Insight"
   ]
  },
  {
   "cell_type": "markdown",
   "id": "51245b65",
   "metadata": {},
   "source": [
    "On voit plusieurs pb :\n",
    "- une première colonne **unnamed** dans les expo_train et expo_test\n",
    "- expo_train fait état de **sinistres de types 1 et 2**, alors que cette info n'est pas dans sinistres"
   ]
  },
  {
   "cell_type": "markdown",
   "id": "d15a3159",
   "metadata": {},
   "source": [
    "**Question 1 :** On vérifie si un Id correspond bien à une police x une année d'observation"
   ]
  },
  {
   "cell_type": "code",
   "execution_count": 53,
   "id": "0e1c73b1",
   "metadata": {},
   "outputs": [
    {
     "data": {
      "text/html": [
       "<div>\n",
       "<style scoped>\n",
       "    .dataframe tbody tr th:only-of-type {\n",
       "        vertical-align: middle;\n",
       "    }\n",
       "\n",
       "    .dataframe tbody tr th {\n",
       "        vertical-align: top;\n",
       "    }\n",
       "\n",
       "    .dataframe thead th {\n",
       "        text-align: right;\n",
       "    }\n",
       "</style>\n",
       "<table border=\"1\" class=\"dataframe\">\n",
       "  <thead>\n",
       "    <tr style=\"text-align: right;\">\n",
       "      <th></th>\n",
       "      <th>ANNEE</th>\n",
       "    </tr>\n",
       "  </thead>\n",
       "  <tbody>\n",
       "    <tr>\n",
       "      <th>count</th>\n",
       "      <td>155651.0</td>\n",
       "    </tr>\n",
       "    <tr>\n",
       "      <th>mean</th>\n",
       "      <td>1.0</td>\n",
       "    </tr>\n",
       "    <tr>\n",
       "      <th>std</th>\n",
       "      <td>0.0</td>\n",
       "    </tr>\n",
       "    <tr>\n",
       "      <th>min</th>\n",
       "      <td>1.0</td>\n",
       "    </tr>\n",
       "    <tr>\n",
       "      <th>25%</th>\n",
       "      <td>1.0</td>\n",
       "    </tr>\n",
       "    <tr>\n",
       "      <th>50%</th>\n",
       "      <td>1.0</td>\n",
       "    </tr>\n",
       "    <tr>\n",
       "      <th>75%</th>\n",
       "      <td>1.0</td>\n",
       "    </tr>\n",
       "    <tr>\n",
       "      <th>max</th>\n",
       "      <td>1.0</td>\n",
       "    </tr>\n",
       "  </tbody>\n",
       "</table>\n",
       "</div>"
      ],
      "text/plain": [
       "          ANNEE\n",
       "count  155651.0\n",
       "mean        1.0\n",
       "std         0.0\n",
       "min         1.0\n",
       "25%         1.0\n",
       "50%         1.0\n",
       "75%         1.0\n",
       "max         1.0"
      ]
     },
     "execution_count": 53,
     "metadata": {},
     "output_type": "execute_result"
    }
   ],
   "source": [
    "expo_train[['id', 'ANNEE']].groupby('id').agg('count').describe()"
   ]
  },
  {
   "cell_type": "markdown",
   "id": "81b1f9e0",
   "metadata": {},
   "source": [
    "**=>** c'est bien le cas"
   ]
  },
  {
   "cell_type": "markdown",
   "id": "8487504a",
   "metadata": {},
   "source": [
    "**A FAIRE :** du coup on peut calculer le nombre de sinistres antérieurs"
   ]
  },
  {
   "cell_type": "markdown",
   "id": "f85cb71b",
   "metadata": {},
   "source": [
    "**Question 2 :** est-ce qu'on retrouve dans expo_train les sinistres ? "
   ]
  },
  {
   "cell_type": "markdown",
   "id": "069959f5",
   "metadata": {},
   "source": [
    "## Création des données processées"
   ]
  },
  {
   "cell_type": "markdown",
   "id": "6a970a47",
   "metadata": {},
   "source": [
    "Le fait de créer des fonctions permet de s'assurer que les mêmes traitements soient bien appliqués"
   ]
  },
  {
   "cell_type": "code",
   "execution_count": 109,
   "id": "92875565",
   "metadata": {},
   "outputs": [],
   "source": [
    "def preprocess(df):\n",
    "    #On vire la colonne unnamed :0 : André => ancien numéro de ligne\n",
    "    #On vire `NBSIN_TYPE1_AN2` => vu avec André : pb dans la variable qui est >=1\n",
    "    df=df.drop(['Unnamed: 0','NBSIN_TYPE1_AN2'], axis=1)\n",
    "    df['ZONIER_2']=df['ZONIER'].astype(str).str[0]\n",
    "    df['NBSIN_TYPE1_AN1_RECODE']= df['NBSIN_TYPE1_AN1'].apply(lambda x : 1 if x>1 else 0)\n",
    "    df['NBSIN_TYPE1_AN3_RECODE']= df['NBSIN_TYPE1_AN3'].apply(lambda x : 1 if x>1 else 0)\n",
    "    return df"
   ]
  },
  {
   "cell_type": "code",
   "execution_count": 110,
   "id": "248024be",
   "metadata": {},
   "outputs": [],
   "source": [
    "expo_train=preprocess(expo_train)\n",
    "expo_test=preprocess(expo_test)"
   ]
  },
  {
   "cell_type": "code",
   "execution_count": 111,
   "id": "6440ac92",
   "metadata": {},
   "outputs": [],
   "source": [
    "def cree_df_merged(df_exp, df_sin):\n",
    "    df_merged=pd.merge(df_exp, df_sin, on=['id', 'ANNEE'], how='left' )\n",
    "    df_merged[['NB', 'COUT']]=df_merged[['NB', 'COUT']].fillna(0)\n",
    "    df_merged['Isin']=df_merged['NB'].apply(lambda x : min(1, x))\n",
    "    #on extraie la première lettre\n",
    "    return df_merged"
   ]
  },
  {
   "cell_type": "code",
   "execution_count": 112,
   "id": "f57a0fdb",
   "metadata": {},
   "outputs": [],
   "source": [
    "df_merged=cree_df_merged(expo_train, sin_train)"
   ]
  },
  {
   "cell_type": "code",
   "execution_count": 113,
   "id": "1ee34e39",
   "metadata": {},
   "outputs": [
    {
     "data": {
      "text/html": [
       "<div>\n",
       "<style scoped>\n",
       "    .dataframe tbody tr th:only-of-type {\n",
       "        vertical-align: middle;\n",
       "    }\n",
       "\n",
       "    .dataframe tbody tr th {\n",
       "        vertical-align: top;\n",
       "    }\n",
       "\n",
       "    .dataframe thead th {\n",
       "        text-align: right;\n",
       "    }\n",
       "</style>\n",
       "<table border=\"1\" class=\"dataframe\">\n",
       "  <thead>\n",
       "    <tr style=\"text-align: right;\">\n",
       "      <th></th>\n",
       "      <th>EXPO</th>\n",
       "      <th>FORMULE</th>\n",
       "      <th>TYPE_RESIDENCE</th>\n",
       "      <th>TYPE_HABITATION</th>\n",
       "      <th>NB_PIECES</th>\n",
       "      <th>SITUATION_JURIDIQUE</th>\n",
       "      <th>NIVEAU_JURIDIQUE</th>\n",
       "      <th>VALEUR_DES_BIENS</th>\n",
       "      <th>OBJETS_DE_VALEUR</th>\n",
       "      <th>ZONIER</th>\n",
       "      <th>...</th>\n",
       "      <th>NBSIN_TYPE2_AN2</th>\n",
       "      <th>NBSIN_TYPE2_AN3</th>\n",
       "      <th>id</th>\n",
       "      <th>ANNEE</th>\n",
       "      <th>ZONIER_2</th>\n",
       "      <th>NBSIN_TYPE1_AN1_RECODE</th>\n",
       "      <th>NBSIN_TYPE1_AN3_RECODE</th>\n",
       "      <th>NB</th>\n",
       "      <th>COUT</th>\n",
       "      <th>Isin</th>\n",
       "    </tr>\n",
       "  </thead>\n",
       "  <tbody>\n",
       "    <tr>\n",
       "      <th>0</th>\n",
       "      <td>1.000000</td>\n",
       "      <td>MEDIUM</td>\n",
       "      <td>PRINCIPALE</td>\n",
       "      <td>APPARTEMENT</td>\n",
       "      <td>1.0</td>\n",
       "      <td>PROPRIO</td>\n",
       "      <td>JUR1</td>\n",
       "      <td>3500.0</td>\n",
       "      <td>NIVEAU_1</td>\n",
       "      <td>B40</td>\n",
       "      <td>...</td>\n",
       "      <td>0.0</td>\n",
       "      <td>0</td>\n",
       "      <td>5</td>\n",
       "      <td>2017</td>\n",
       "      <td>B</td>\n",
       "      <td>0</td>\n",
       "      <td>0</td>\n",
       "      <td>0.0</td>\n",
       "      <td>0.0</td>\n",
       "      <td>0.0</td>\n",
       "    </tr>\n",
       "    <tr>\n",
       "      <th>1</th>\n",
       "      <td>0.824657</td>\n",
       "      <td>CONFORT</td>\n",
       "      <td>PRINCIPALE</td>\n",
       "      <td>MAISON</td>\n",
       "      <td>NaN</td>\n",
       "      <td>PROPRIO</td>\n",
       "      <td>JUR1</td>\n",
       "      <td>0.0</td>\n",
       "      <td>NIVEAU_1</td>\n",
       "      <td>A11</td>\n",
       "      <td>...</td>\n",
       "      <td>0.0</td>\n",
       "      <td>0</td>\n",
       "      <td>9</td>\n",
       "      <td>2018</td>\n",
       "      <td>A</td>\n",
       "      <td>0</td>\n",
       "      <td>0</td>\n",
       "      <td>0.0</td>\n",
       "      <td>0.0</td>\n",
       "      <td>0.0</td>\n",
       "    </tr>\n",
       "    <tr>\n",
       "      <th>2</th>\n",
       "      <td>1.000000</td>\n",
       "      <td>ESSENTIEL</td>\n",
       "      <td>PRINCIPALE</td>\n",
       "      <td>APPARTEMENT</td>\n",
       "      <td>3.0</td>\n",
       "      <td>LOCATAIRE</td>\n",
       "      <td>JUR1</td>\n",
       "      <td>35000.0</td>\n",
       "      <td>NIVEAU_1</td>\n",
       "      <td>B32</td>\n",
       "      <td>...</td>\n",
       "      <td>0.0</td>\n",
       "      <td>0</td>\n",
       "      <td>11</td>\n",
       "      <td>2017</td>\n",
       "      <td>B</td>\n",
       "      <td>0</td>\n",
       "      <td>0</td>\n",
       "      <td>0.0</td>\n",
       "      <td>0.0</td>\n",
       "      <td>0.0</td>\n",
       "    </tr>\n",
       "    <tr>\n",
       "      <th>3</th>\n",
       "      <td>1.000000</td>\n",
       "      <td>ESSENTIEL</td>\n",
       "      <td>SECONDAIRE</td>\n",
       "      <td>MAISON</td>\n",
       "      <td>2.0</td>\n",
       "      <td>LOCATAIRE</td>\n",
       "      <td>JUR1</td>\n",
       "      <td>9000.0</td>\n",
       "      <td>NIVEAU_1</td>\n",
       "      <td>C24</td>\n",
       "      <td>...</td>\n",
       "      <td>0.0</td>\n",
       "      <td>0</td>\n",
       "      <td>13</td>\n",
       "      <td>2018</td>\n",
       "      <td>C</td>\n",
       "      <td>0</td>\n",
       "      <td>0</td>\n",
       "      <td>0.0</td>\n",
       "      <td>0.0</td>\n",
       "      <td>0.0</td>\n",
       "    </tr>\n",
       "    <tr>\n",
       "      <th>4</th>\n",
       "      <td>1.000000</td>\n",
       "      <td>ESSENTIEL</td>\n",
       "      <td>PRINCIPALE</td>\n",
       "      <td>MAISON</td>\n",
       "      <td>1.0</td>\n",
       "      <td>LOCATAIRE</td>\n",
       "      <td>JUR1</td>\n",
       "      <td>20000.0</td>\n",
       "      <td>NIVEAU_1</td>\n",
       "      <td>C9</td>\n",
       "      <td>...</td>\n",
       "      <td>0.0</td>\n",
       "      <td>0</td>\n",
       "      <td>14</td>\n",
       "      <td>2017</td>\n",
       "      <td>C</td>\n",
       "      <td>0</td>\n",
       "      <td>0</td>\n",
       "      <td>0.0</td>\n",
       "      <td>0.0</td>\n",
       "      <td>0.0</td>\n",
       "    </tr>\n",
       "    <tr>\n",
       "      <th>...</th>\n",
       "      <td>...</td>\n",
       "      <td>...</td>\n",
       "      <td>...</td>\n",
       "      <td>...</td>\n",
       "      <td>...</td>\n",
       "      <td>...</td>\n",
       "      <td>...</td>\n",
       "      <td>...</td>\n",
       "      <td>...</td>\n",
       "      <td>...</td>\n",
       "      <td>...</td>\n",
       "      <td>...</td>\n",
       "      <td>...</td>\n",
       "      <td>...</td>\n",
       "      <td>...</td>\n",
       "      <td>...</td>\n",
       "      <td>...</td>\n",
       "      <td>...</td>\n",
       "      <td>...</td>\n",
       "      <td>...</td>\n",
       "      <td>...</td>\n",
       "    </tr>\n",
       "    <tr>\n",
       "      <th>155646</th>\n",
       "      <td>0.680327</td>\n",
       "      <td>MEDIUM</td>\n",
       "      <td>PRINCIPALE</td>\n",
       "      <td>APPARTEMENT</td>\n",
       "      <td>2.0</td>\n",
       "      <td>PROPRIO</td>\n",
       "      <td>JUR1</td>\n",
       "      <td>3500.0</td>\n",
       "      <td>NIVEAU_1</td>\n",
       "      <td>A12</td>\n",
       "      <td>...</td>\n",
       "      <td>0.0</td>\n",
       "      <td>0</td>\n",
       "      <td>499986</td>\n",
       "      <td>2017</td>\n",
       "      <td>A</td>\n",
       "      <td>0</td>\n",
       "      <td>0</td>\n",
       "      <td>0.0</td>\n",
       "      <td>0.0</td>\n",
       "      <td>0.0</td>\n",
       "    </tr>\n",
       "    <tr>\n",
       "      <th>155647</th>\n",
       "      <td>1.000000</td>\n",
       "      <td>MEDIUM</td>\n",
       "      <td>PRINCIPALE</td>\n",
       "      <td>MAISON</td>\n",
       "      <td>2.0</td>\n",
       "      <td>PROPRIO</td>\n",
       "      <td>JUR1</td>\n",
       "      <td>9000.0</td>\n",
       "      <td>NIVEAU_1</td>\n",
       "      <td>B19</td>\n",
       "      <td>...</td>\n",
       "      <td>0.0</td>\n",
       "      <td>0</td>\n",
       "      <td>499989</td>\n",
       "      <td>2016</td>\n",
       "      <td>B</td>\n",
       "      <td>0</td>\n",
       "      <td>0</td>\n",
       "      <td>0.0</td>\n",
       "      <td>0.0</td>\n",
       "      <td>0.0</td>\n",
       "    </tr>\n",
       "    <tr>\n",
       "      <th>155648</th>\n",
       "      <td>0.569863</td>\n",
       "      <td>ALL_INCLUDE</td>\n",
       "      <td>PRINCIPALE</td>\n",
       "      <td>MAISON</td>\n",
       "      <td>1.0</td>\n",
       "      <td>PROPRIO</td>\n",
       "      <td>JUR1</td>\n",
       "      <td>3500.0</td>\n",
       "      <td>NIVEAU_1</td>\n",
       "      <td>A9</td>\n",
       "      <td>...</td>\n",
       "      <td>NaN</td>\n",
       "      <td>0</td>\n",
       "      <td>499991</td>\n",
       "      <td>2018</td>\n",
       "      <td>A</td>\n",
       "      <td>0</td>\n",
       "      <td>0</td>\n",
       "      <td>0.0</td>\n",
       "      <td>0.0</td>\n",
       "      <td>0.0</td>\n",
       "    </tr>\n",
       "    <tr>\n",
       "      <th>155649</th>\n",
       "      <td>0.597260</td>\n",
       "      <td>CONFORT</td>\n",
       "      <td>PRINCIPALE</td>\n",
       "      <td>MAISON</td>\n",
       "      <td>2.0</td>\n",
       "      <td>PROPRIO</td>\n",
       "      <td>JUR1</td>\n",
       "      <td>3500.0</td>\n",
       "      <td>NIVEAU_1</td>\n",
       "      <td>C23</td>\n",
       "      <td>...</td>\n",
       "      <td>0.0</td>\n",
       "      <td>0</td>\n",
       "      <td>499993</td>\n",
       "      <td>2016</td>\n",
       "      <td>C</td>\n",
       "      <td>0</td>\n",
       "      <td>0</td>\n",
       "      <td>0.0</td>\n",
       "      <td>0.0</td>\n",
       "      <td>0.0</td>\n",
       "    </tr>\n",
       "    <tr>\n",
       "      <th>155650</th>\n",
       "      <td>1.000000</td>\n",
       "      <td>MEDIUM</td>\n",
       "      <td>PRINCIPALE</td>\n",
       "      <td>MAISON</td>\n",
       "      <td>2.0</td>\n",
       "      <td>PROPRIO</td>\n",
       "      <td>JUR1</td>\n",
       "      <td>3500.0</td>\n",
       "      <td>NIVEAU_1</td>\n",
       "      <td>C8</td>\n",
       "      <td>...</td>\n",
       "      <td>0.0</td>\n",
       "      <td>0</td>\n",
       "      <td>499999</td>\n",
       "      <td>2018</td>\n",
       "      <td>C</td>\n",
       "      <td>0</td>\n",
       "      <td>0</td>\n",
       "      <td>0.0</td>\n",
       "      <td>0.0</td>\n",
       "      <td>0.0</td>\n",
       "    </tr>\n",
       "  </tbody>\n",
       "</table>\n",
       "<p>155651 rows × 23 columns</p>\n",
       "</div>"
      ],
      "text/plain": [
       "            EXPO      FORMULE TYPE_RESIDENCE TYPE_HABITATION  NB_PIECES  \\\n",
       "0       1.000000       MEDIUM     PRINCIPALE     APPARTEMENT        1.0   \n",
       "1       0.824657      CONFORT     PRINCIPALE          MAISON        NaN   \n",
       "2       1.000000    ESSENTIEL     PRINCIPALE     APPARTEMENT        3.0   \n",
       "3       1.000000    ESSENTIEL     SECONDAIRE          MAISON        2.0   \n",
       "4       1.000000    ESSENTIEL     PRINCIPALE          MAISON        1.0   \n",
       "...          ...          ...            ...             ...        ...   \n",
       "155646  0.680327       MEDIUM     PRINCIPALE     APPARTEMENT        2.0   \n",
       "155647  1.000000       MEDIUM     PRINCIPALE          MAISON        2.0   \n",
       "155648  0.569863  ALL_INCLUDE     PRINCIPALE          MAISON        1.0   \n",
       "155649  0.597260      CONFORT     PRINCIPALE          MAISON        2.0   \n",
       "155650  1.000000       MEDIUM     PRINCIPALE          MAISON        2.0   \n",
       "\n",
       "       SITUATION_JURIDIQUE NIVEAU_JURIDIQUE  VALEUR_DES_BIENS  \\\n",
       "0                  PROPRIO             JUR1            3500.0   \n",
       "1                  PROPRIO             JUR1               0.0   \n",
       "2                LOCATAIRE             JUR1           35000.0   \n",
       "3                LOCATAIRE             JUR1            9000.0   \n",
       "4                LOCATAIRE             JUR1           20000.0   \n",
       "...                    ...              ...               ...   \n",
       "155646             PROPRIO             JUR1            3500.0   \n",
       "155647             PROPRIO             JUR1            9000.0   \n",
       "155648             PROPRIO             JUR1            3500.0   \n",
       "155649             PROPRIO             JUR1            3500.0   \n",
       "155650             PROPRIO             JUR1            3500.0   \n",
       "\n",
       "       OBJETS_DE_VALEUR ZONIER  ...  NBSIN_TYPE2_AN2  NBSIN_TYPE2_AN3      id  \\\n",
       "0              NIVEAU_1    B40  ...              0.0                0       5   \n",
       "1              NIVEAU_1    A11  ...              0.0                0       9   \n",
       "2              NIVEAU_1    B32  ...              0.0                0      11   \n",
       "3              NIVEAU_1    C24  ...              0.0                0      13   \n",
       "4              NIVEAU_1     C9  ...              0.0                0      14   \n",
       "...                 ...    ...  ...              ...              ...     ...   \n",
       "155646         NIVEAU_1    A12  ...              0.0                0  499986   \n",
       "155647         NIVEAU_1    B19  ...              0.0                0  499989   \n",
       "155648         NIVEAU_1     A9  ...              NaN                0  499991   \n",
       "155649         NIVEAU_1    C23  ...              0.0                0  499993   \n",
       "155650         NIVEAU_1     C8  ...              0.0                0  499999   \n",
       "\n",
       "        ANNEE  ZONIER_2  NBSIN_TYPE1_AN1_RECODE  NBSIN_TYPE1_AN3_RECODE   NB  \\\n",
       "0        2017         B                       0                       0  0.0   \n",
       "1        2018         A                       0                       0  0.0   \n",
       "2        2017         B                       0                       0  0.0   \n",
       "3        2018         C                       0                       0  0.0   \n",
       "4        2017         C                       0                       0  0.0   \n",
       "...       ...       ...                     ...                     ...  ...   \n",
       "155646   2017         A                       0                       0  0.0   \n",
       "155647   2016         B                       0                       0  0.0   \n",
       "155648   2018         A                       0                       0  0.0   \n",
       "155649   2016         C                       0                       0  0.0   \n",
       "155650   2018         C                       0                       0  0.0   \n",
       "\n",
       "        COUT  Isin  \n",
       "0        0.0   0.0  \n",
       "1        0.0   0.0  \n",
       "2        0.0   0.0  \n",
       "3        0.0   0.0  \n",
       "4        0.0   0.0  \n",
       "...      ...   ...  \n",
       "155646   0.0   0.0  \n",
       "155647   0.0   0.0  \n",
       "155648   0.0   0.0  \n",
       "155649   0.0   0.0  \n",
       "155650   0.0   0.0  \n",
       "\n",
       "[155651 rows x 23 columns]"
      ]
     },
     "execution_count": 113,
     "metadata": {},
     "output_type": "execute_result"
    }
   ],
   "source": [
    "df_merged"
   ]
  },
  {
   "cell_type": "code",
   "execution_count": 58,
   "id": "8b08db56",
   "metadata": {},
   "outputs": [],
   "source": [
    "random_state=42"
   ]
  },
  {
   "cell_type": "markdown",
   "id": "78264f72",
   "metadata": {},
   "source": [
    "On fait une fois pour toute le split entre train et val ici en faisant un stratified sampling sur l'indicatrice des sinistres du fait de sa faible représentation"
   ]
  },
  {
   "cell_type": "code",
   "execution_count": 115,
   "id": "9cee714d",
   "metadata": {},
   "outputs": [],
   "source": [
    "df_train, df_val = train_test_split(df_merged, test_size=0.2, random_state=random_state, stratify=df_merged['Isin'])"
   ]
  },
  {
   "cell_type": "code",
   "execution_count": 116,
   "id": "3147d020",
   "metadata": {},
   "outputs": [],
   "source": [
    "y_train = df_train[['id','EXPO','NB','COUT', 'Isin']]\n",
    "y_val = df_val[['id','EXPO','NB','COUT', 'Isin']]"
   ]
  },
  {
   "cell_type": "code",
   "execution_count": 117,
   "id": "d5719e72",
   "metadata": {},
   "outputs": [],
   "source": [
    "X_train = df_train.drop(['NB','COUT', 'Isin'], axis=1)\n",
    "X_val = df_val.drop(['NB','COUT', 'Isin'], axis=1)"
   ]
  },
  {
   "cell_type": "code",
   "execution_count": 118,
   "id": "1d42623a",
   "metadata": {},
   "outputs": [],
   "source": [
    "X_test=expo_test"
   ]
  },
  {
   "cell_type": "markdown",
   "id": "9f90dd53",
   "metadata": {},
   "source": [
    "Les données sont stockées dans le répertoire `interim` pour un accès simplifié par les autres notebooks et avoir une source de vérité unique"
   ]
  },
  {
   "cell_type": "code",
   "execution_count": 119,
   "id": "e84375f3",
   "metadata": {},
   "outputs": [],
   "source": [
    "# On exporte les données\n",
    "\n",
    "#df\n",
    "df_merged.to_parquet('/mnt/data/interim/df_merged.gzip',compression='gzip')\n",
    "df_train.to_parquet('/mnt/data/interim/df_train.gzip',compression='gzip')\n",
    "df_val.to_parquet('/mnt/data/interim/df_val.gzip',compression='gzip')\n",
    "\n",
    "\n",
    "#X\n",
    "X_train.to_parquet('/mnt/data/interim/X_train.gzip',compression='gzip')\n",
    "X_val.to_parquet('/mnt/data/interim/X_val.gzip',compression='gzip')\n",
    "X_test.to_parquet('/mnt/data/interim/X_test.gzip',compression='gzip')\n",
    "\n",
    "#y\n",
    "y_train.to_parquet('/mnt/data/interim/y_train.gzip',compression='gzip')\n",
    "y_val.to_parquet('/mnt/data/interim/y_val.gzip',compression='gzip')\n"
   ]
  },
  {
   "cell_type": "markdown",
   "id": "10d87d16",
   "metadata": {},
   "source": [
    "Pour mémoire : code implémenté dans [sklearn](https://scikit-learn.org/stable/auto_examples/linear_model/plot_tweedie_regression_insurance_claims.html#sphx-glr-auto-examples-linear-model-plot-tweedie-regression-insurance-claims-py) mais que nous n'avons finalement pas repris"
   ]
  },
  {
   "cell_type": "code",
   "execution_count": 74,
   "id": "8194865d",
   "metadata": {},
   "outputs": [],
   "source": [
    "# Insurances companies are interested in modeling the Pure Premium, that is\n",
    "# the expected total claim amount per unit of exposure for each policyholder\n",
    "# in their portfolio:\n",
    "#df_merged[\"PurePremium\"] = df_merged[\"COUT\"] / df_merged[\"EXPO\"]\n",
    "\n",
    "# This can be indirectly approximated by a 2-step modeling: the product of the\n",
    "# Frequency times the average claim amount per claim:\n",
    "#df_merged[\"Frequency\"] = df_merged[\"NB\"] / df_merged[\"EXPO\"]\n",
    "#df_merged[\"AvgClaimAmount\"] = df_merged[\"COUT\"] / np.fmax(df_merged[\"NB\"], 1)"
   ]
  }
 ],
 "metadata": {
  "kernelspec": {
   "display_name": "Python 3",
   "language": "python",
   "name": "python3"
  },
  "language_info": {
   "codemirror_mode": {
    "name": "ipython",
    "version": 3
   },
   "file_extension": ".py",
   "mimetype": "text/x-python",
   "name": "python",
   "nbconvert_exporter": "python",
   "pygments_lexer": "ipython3",
   "version": "3.8.5"
  },
  "toc-autonumbering": true
 },
 "nbformat": 4,
 "nbformat_minor": 5
}
