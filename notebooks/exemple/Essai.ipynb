{
 "cells": [
  {
   "cell_type": "markdown",
   "id": "34a8bf01",
   "metadata": {},
   "source": [
    "# Experiments"
   ]
  },
  {
   "cell_type": "markdown",
   "id": "046f3b14",
   "metadata": {},
   "source": [
    "## Import des fichiers"
   ]
  },
  {
   "cell_type": "code",
   "execution_count": 32,
   "id": "894f5af7",
   "metadata": {},
   "outputs": [],
   "source": [
    "#Temps et fichiers\n",
    "import os\n",
    "import warnings\n",
    "import time\n",
    "from datetime import timedelta\n",
    "\n",
    "#Manipulation de données\n",
    "import pandas as pd\n",
    "import numpy as np\n",
    "from pandas_profiling import ProfileReport\n",
    "from functools import partial\n",
    "\n",
    "\n",
    "#Modélisation\n",
    "from sklearn.datasets import fetch_openml\n",
    "from sklearn.compose import ColumnTransformer\n",
    "from sklearn.linear_model import PoissonRegressor, GammaRegressor\n",
    "from sklearn.linear_model import TweedieRegressor\n",
    "from sklearn.metrics import mean_tweedie_deviance\n",
    "from sklearn.model_selection import train_test_split\n",
    "from sklearn.pipeline import make_pipeline\n",
    "from sklearn.preprocessing import FunctionTransformer, OneHotEncoder\n",
    "from sklearn.preprocessing import StandardScaler, KBinsDiscretizer\n",
    "\n",
    "from sklearn.metrics import mean_absolute_error, mean_squared_error, auc\n",
    "\n",
    "from sklearn.model_selection import train_test_split\n",
    "\n",
    "from sklearn.pipeline import Pipeline, FeatureUnion\n",
    "from sklearn.feature_extraction.text import TfidfVectorizer\n",
    "from sklearn.preprocessing import StandardScaler\n",
    "from sklearn.decomposition import TruncatedSVD\n",
    "from sklearn.ensemble import RandomForestClassifier\n",
    "from sklearn.base import BaseEstimator, TransformerMixin\n",
    "from sklearn.svm import LinearSVC\n",
    "from sklearn.model_selection import RandomizedSearchCV# the keys can be accessed with final_pipeline.get_params().keys()\n",
    "from sklearn.linear_model import LogisticRegression\n",
    "\n",
    "from xgboost import XGBClassifier\n",
    "\n",
    "#Text\n",
    "import re\n",
    "\n",
    "#Evaluation\n",
    "from sklearn.metrics import f1_score, confusion_matrix\n",
    "\n",
    "\n",
    "#Visualisation\n",
    "import matplotlib.pyplot as plt\n",
    "%matplotlib inline\n",
    "import seaborn as sns\n",
    "import plotly.express as px\n",
    "\n",
    "\n",
    "#Tracking d'expérience\n",
    "import mlflow\n",
    "import mlflow.sklearn"
   ]
  },
  {
   "cell_type": "markdown",
   "id": "116646fd",
   "metadata": {},
   "source": [
    "## Utilisation du code du projet packagé"
   ]
  },
  {
   "cell_type": "code",
   "execution_count": 4,
   "id": "de2cf7e5",
   "metadata": {},
   "outputs": [],
   "source": [
    "#Cette cellule permet d'appeler la version packagée du projet et d'en assurer le reload avant appel des fonctions\n",
    "%load_ext autoreload\n",
    "%autoreload 2"
   ]
  },
  {
   "cell_type": "markdown",
   "id": "c6edb624",
   "metadata": {},
   "source": [
    "## Configuration de l'experiment MLFlow"
   ]
  },
  {
   "cell_type": "code",
   "execution_count": 5,
   "id": "f0d7d5a2",
   "metadata": {},
   "outputs": [
    {
     "data": {
      "text/plain": [
       "'/mnt/experiments'"
      ]
     },
     "execution_count": 5,
     "metadata": {},
     "output_type": "execute_result"
    }
   ],
   "source": [
    "mlflow.tracking.get_tracking_uri()"
   ]
  },
  {
   "cell_type": "markdown",
   "id": "d75e99e9",
   "metadata": {},
   "source": [
    "## Chargement des données"
   ]
  },
  {
   "cell_type": "markdown",
   "id": "76045b66",
   "metadata": {},
   "source": [
    "#### load_mtpl2"
   ]
  },
  {
   "cell_type": "code",
   "execution_count": 33,
   "id": "9f3441f9",
   "metadata": {},
   "outputs": [],
   "source": [
    "def load_mtpl2(n_samples=100000):\n",
    "    \"\"\"Fetch the French Motor Third-Party Liability Claims dataset.\n",
    "\n",
    "    Parameters\n",
    "    ----------\n",
    "    n_samples: int, default=100000\n",
    "      number of samples to select (for faster run time). Full dataset has\n",
    "      678013 samples.\n",
    "    \"\"\"\n",
    "    # freMTPL2freq dataset from https://www.openml.org/d/41214\n",
    "    df_freq = fetch_openml(data_id=41214, as_frame=True)['data']\n",
    "    df_freq['IDpol'] = df_freq['IDpol'].astype(int)\n",
    "    df_freq.set_index('IDpol', inplace=True)\n",
    "\n",
    "    # freMTPL2sev dataset from https://www.openml.org/d/41215\n",
    "    df_sev = fetch_openml(data_id=41215, as_frame=True)['data']\n",
    "\n",
    "    # sum ClaimAmount over identical IDs\n",
    "    df_sev = df_sev.groupby('IDpol').sum()\n",
    "\n",
    "    df = df_freq.join(df_sev, how=\"left\")\n",
    "    df[\"ClaimAmount\"].fillna(0, inplace=True)\n",
    "\n",
    "    # unquote string fields\n",
    "    for column_name in df.columns[df.dtypes.values == object]:\n",
    "        df[column_name] = df[column_name].str.strip(\"'\")\n",
    "    return df.iloc[:n_samples]\n"
   ]
  },
  {
   "cell_type": "markdown",
   "id": "e8530a15",
   "metadata": {},
   "source": [
    "#### plot_obs_pred"
   ]
  },
  {
   "cell_type": "code",
   "execution_count": 34,
   "id": "29fda321",
   "metadata": {},
   "outputs": [],
   "source": [
    "def plot_obs_pred(df, feature, weight, observed, predicted, y_label=None,\n",
    "                  title=None, ax=None, fill_legend=False):\n",
    "    \"\"\"Plot observed and predicted - aggregated per feature level.\n",
    "\n",
    "    Parameters\n",
    "    ----------\n",
    "    df : DataFrame\n",
    "        input data\n",
    "    feature: str\n",
    "        a column name of df for the feature to be plotted\n",
    "    weight : str\n",
    "        column name of df with the values of weights or exposure\n",
    "    observed : str\n",
    "        a column name of df with the observed target\n",
    "    predicted : DataFrame\n",
    "        a dataframe, with the same index as df, with the predicted target\n",
    "    fill_legend : bool, default=False\n",
    "        whether to show fill_between legend\n",
    "    \"\"\"\n",
    "    # aggregate observed and predicted variables by feature level\n",
    "    df_ = df.loc[:, [feature, weight]].copy()\n",
    "    df_[\"observed\"] = df[observed] * df[weight]\n",
    "    df_[\"predicted\"] = predicted * df[weight]\n",
    "    df_ = (\n",
    "        df_.groupby([feature])[[weight, \"observed\", \"predicted\"]]\n",
    "        .sum()\n",
    "        .assign(observed=lambda x: x[\"observed\"] / x[weight])\n",
    "        .assign(predicted=lambda x: x[\"predicted\"] / x[weight])\n",
    "    )\n",
    "\n",
    "    ax = df_.loc[:, [\"observed\", \"predicted\"]].plot(style=\".\", ax=ax)\n",
    "    y_max = df_.loc[:, [\"observed\", \"predicted\"]].values.max() * 0.8\n",
    "    p2 = ax.fill_between(\n",
    "        df_.index,\n",
    "        0,\n",
    "        y_max * df_[weight] / df_[weight].values.max(),\n",
    "        color=\"g\",\n",
    "        alpha=0.1,\n",
    "    )\n",
    "    if fill_legend:\n",
    "        ax.legend([p2], [\"{} distribution\".format(feature)])\n",
    "    ax.set(\n",
    "        ylabel=y_label if y_label is not None else None,\n",
    "        title=title if title is not None else \"Train: Observed vs Predicted\",\n",
    "    )\n"
   ]
  },
  {
   "cell_type": "markdown",
   "id": "bfd8c011",
   "metadata": {},
   "source": [
    "#### score_estimator"
   ]
  },
  {
   "cell_type": "code",
   "execution_count": 35,
   "id": "757de1e9",
   "metadata": {},
   "outputs": [],
   "source": [
    "def score_estimator(\n",
    "    estimator, X_train, X_test, df_train, df_test, target, weights,\n",
    "    tweedie_powers=None,\n",
    "):\n",
    "    \"\"\"Evaluate an estimator on train and test sets with different metrics\"\"\"\n",
    "\n",
    "    metrics = [\n",
    "        (\"D² explained\", None),   # Use default scorer if it exists\n",
    "        (\"mean abs. error\", mean_absolute_error),\n",
    "        (\"mean squared error\", mean_squared_error),\n",
    "    ]\n",
    "    if tweedie_powers:\n",
    "        metrics += [(\n",
    "            \"mean Tweedie dev p={:.4f}\".format(power),\n",
    "            partial(mean_tweedie_deviance, power=power)\n",
    "        ) for power in tweedie_powers]\n",
    "\n",
    "    res = []\n",
    "    for subset_label, X, df in [\n",
    "        (\"train\", X_train, df_train),\n",
    "        (\"test\", X_test, df_test),\n",
    "    ]:\n",
    "        y, _weights = df[target], df[weights]\n",
    "        for score_label, metric in metrics:\n",
    "            if isinstance(estimator, tuple) and len(estimator) == 2:\n",
    "                # Score the model consisting of the product of frequency and\n",
    "                # severity models.\n",
    "                est_freq, est_sev = estimator\n",
    "                y_pred = est_freq.predict(X) * est_sev.predict(X)\n",
    "            else:\n",
    "                y_pred = estimator.predict(X)\n",
    "\n",
    "            if metric is None:\n",
    "                if not hasattr(estimator, \"score\"):\n",
    "                    continue\n",
    "                score = estimator.score(X, y, sample_weight=_weights)\n",
    "            else:\n",
    "                score = metric(y, y_pred, sample_weight=_weights)\n",
    "\n",
    "            res.append(\n",
    "                {\"subset\": subset_label, \"metric\": score_label, \"score\": score}\n",
    "            )\n",
    "\n",
    "    res = (\n",
    "        pd.DataFrame(res)\n",
    "        .set_index([\"metric\", \"subset\"])\n",
    "        .score.unstack(-1)\n",
    "        .round(4)\n",
    "        .loc[:, ['train', 'test']]\n",
    "    )\n",
    "    return res"
   ]
  },
  {
   "cell_type": "code",
   "execution_count": 36,
   "id": "87bcd96f",
   "metadata": {},
   "outputs": [
    {
     "name": "stdout",
     "output_type": "stream",
     "text": [
      "       ClaimNb  Exposure Area  VehPower  VehAge  DrivAge  BonusMalus VehBrand  \\\n",
      "IDpol                                                                           \n",
      "139        1.0      0.75    F       7.0     1.0     61.0        50.0      B12   \n",
      "190        1.0      0.14    B      12.0     5.0     50.0        60.0      B12   \n",
      "414        1.0      0.14    E       4.0     0.0     36.0        85.0      B12   \n",
      "424        2.0      0.62    F      10.0     0.0     51.0       100.0      B12   \n",
      "463        1.0      0.31    A       5.0     0.0     45.0        50.0      B12   \n",
      "\n",
      "        VehGas  Density Region  ClaimAmount   PurePremium  Frequency  \\\n",
      "IDpol                                                                  \n",
      "139    Regular  27000.0    R11       303.00    404.000000   1.333333   \n",
      "190     Diesel     56.0    R25      1981.84  14156.000000   7.142857   \n",
      "414    Regular   4792.0    R11      1456.55  10403.928571   7.142857   \n",
      "424    Regular  27000.0    R11     10834.00  17474.193548   3.225806   \n",
      "463    Regular     12.0    R73      3986.67  12860.225806   3.225806   \n",
      "\n",
      "       AvgClaimAmount  \n",
      "IDpol                  \n",
      "139            303.00  \n",
      "190           1981.84  \n",
      "414           1456.55  \n",
      "424           5417.00  \n",
      "463           3986.67  \n"
     ]
    },
    {
     "name": "stderr",
     "output_type": "stream",
     "text": [
      "/usr/local/lib/python3.8/dist-packages/sklearn/preprocessing/_discretization.py:220: UserWarning: Bins whose width are too small (i.e., <= 1e-8) in feature 0 are removed. Consider decreasing the number of bins.\n",
      "  warnings.warn('Bins whose width are too small (i.e., <= '\n"
     ]
    }
   ],
   "source": [
    "df = load_mtpl2(n_samples=60000)\n",
    "\n",
    "# Note: filter out claims with zero amount, as the severity model\n",
    "# requires strictly positive target values.\n",
    "df.loc[(df[\"ClaimAmount\"] == 0) & (df[\"ClaimNb\"] >= 1), \"ClaimNb\"] = 0\n",
    "\n",
    "# Correct for unreasonable observations (that might be data error)\n",
    "# and a few exceptionally large claim amounts\n",
    "df[\"ClaimNb\"] = df[\"ClaimNb\"].clip(upper=4)\n",
    "df[\"Exposure\"] = df[\"Exposure\"].clip(upper=1)\n",
    "df[\"ClaimAmount\"] = df[\"ClaimAmount\"].clip(upper=200000)\n",
    "\n",
    "log_scale_transformer = make_pipeline(\n",
    "    FunctionTransformer(func=np.log),\n",
    "    StandardScaler()\n",
    ")\n",
    "\n",
    "column_trans = ColumnTransformer(\n",
    "    [\n",
    "        (\"binned_numeric\", KBinsDiscretizer(n_bins=10),\n",
    "            [\"VehAge\", \"DrivAge\"]),\n",
    "        (\"onehot_categorical\", OneHotEncoder(),\n",
    "            [\"VehBrand\", \"VehPower\", \"VehGas\", \"Region\", \"Area\"]),\n",
    "        (\"passthrough_numeric\", \"passthrough\",\n",
    "            [\"BonusMalus\"]),\n",
    "        (\"log_scaled_numeric\", log_scale_transformer,\n",
    "            [\"Density\"]),\n",
    "    ],\n",
    "    remainder=\"drop\",\n",
    ")\n",
    "X = column_trans.fit_transform(df)\n",
    "\n",
    "# Insurances companies are interested in modeling the Pure Premium, that is\n",
    "# the expected total claim amount per unit of exposure for each policyholder\n",
    "# in their portfolio:\n",
    "df[\"PurePremium\"] = df[\"ClaimAmount\"] / df[\"Exposure\"]\n",
    "\n",
    "# This can be indirectly approximated by a 2-step modeling: the product of the\n",
    "# Frequency times the average claim amount per claim:\n",
    "df[\"Frequency\"] = df[\"ClaimNb\"] / df[\"Exposure\"]\n",
    "df[\"AvgClaimAmount\"] = df[\"ClaimAmount\"] / np.fmax(df[\"ClaimNb\"], 1)\n",
    "\n",
    "with pd.option_context(\"display.max_columns\", 15):\n",
    "    print(df[df.ClaimAmount > 0].head())"
   ]
  },
  {
   "cell_type": "markdown",
   "id": "76fd6b83",
   "metadata": {},
   "source": [
    "## Frequency model – Poisson distribution"
   ]
  },
  {
   "cell_type": "code",
   "execution_count": 37,
   "id": "b134d05c",
   "metadata": {},
   "outputs": [
    {
     "name": "stdout",
     "output_type": "stream",
     "text": [
      "Evaluation of PoissonRegressor on target Frequency\n",
      "subset               train    test\n",
      "metric                            \n",
      "D² explained        0.0590  0.0579\n",
      "mean abs. error     0.1706  0.1661\n",
      "mean squared error  0.3041  0.3043\n"
     ]
    }
   ],
   "source": [
    "df_train, df_test, X_train, X_test = train_test_split(df, X, random_state=0)\n",
    "\n",
    "# The parameters of the model are estimated by minimizing the Poisson deviance\n",
    "# on the training set via a quasi-Newton solver: l-BFGS. Some of the features\n",
    "# are collinear, we use a weak penalization to avoid numerical issues.\n",
    "glm_freq = PoissonRegressor(alpha=1e-3, max_iter=400)\n",
    "glm_freq.fit(X_train, df_train[\"Frequency\"],\n",
    "             sample_weight=df_train[\"Exposure\"])\n",
    "\n",
    "scores = score_estimator(\n",
    "    glm_freq,\n",
    "    X_train,\n",
    "    X_test,\n",
    "    df_train,\n",
    "    df_test,\n",
    "    target=\"Frequency\",\n",
    "    weights=\"Exposure\",\n",
    ")\n",
    "print(\"Evaluation of PoissonRegressor on target Frequency\")\n",
    "print(scores)"
   ]
  },
  {
   "cell_type": "code",
   "execution_count": null,
   "id": "fc97bf73",
   "metadata": {},
   "outputs": [],
   "source": []
  },
  {
   "cell_type": "code",
   "execution_count": 38,
   "id": "9c5fa7e2",
   "metadata": {},
   "outputs": [
    {
     "data": {
      "image/png": "[encoded data removed]",
      "text/plain": [
       "<Figure size 1152x576 with 4 Axes>"
      ]
     },
     "metadata": {
      "needs_background": "light"
     },
     "output_type": "display_data"
    }
   ],
   "source": [
    "fig, ax = plt.subplots(ncols=2, nrows=2, figsize=(16, 8))\n",
    "fig.subplots_adjust(hspace=0.3, wspace=0.2)\n",
    "\n",
    "plot_obs_pred(\n",
    "    df=df_train,\n",
    "    feature=\"DrivAge\",\n",
    "    weight=\"Exposure\",\n",
    "    observed=\"Frequency\",\n",
    "    predicted=glm_freq.predict(X_train),\n",
    "    y_label=\"Claim Frequency\",\n",
    "    title=\"train data\",\n",
    "    ax=ax[0, 0],\n",
    ")\n",
    "\n",
    "plot_obs_pred(\n",
    "    df=df_test,\n",
    "    feature=\"DrivAge\",\n",
    "    weight=\"Exposure\",\n",
    "    observed=\"Frequency\",\n",
    "    predicted=glm_freq.predict(X_test),\n",
    "    y_label=\"Claim Frequency\",\n",
    "    title=\"test data\",\n",
    "    ax=ax[0, 1],\n",
    "    fill_legend=True\n",
    ")\n",
    "\n",
    "plot_obs_pred(\n",
    "    df=df_test,\n",
    "    feature=\"VehAge\",\n",
    "    weight=\"Exposure\",\n",
    "    observed=\"Frequency\",\n",
    "    predicted=glm_freq.predict(X_test),\n",
    "    y_label=\"Claim Frequency\",\n",
    "    title=\"test data\",\n",
    "    ax=ax[1, 0],\n",
    "    fill_legend=True\n",
    ")\n",
    "\n",
    "plot_obs_pred(\n",
    "    df=df_test,\n",
    "    feature=\"BonusMalus\",\n",
    "    weight=\"Exposure\",\n",
    "    observed=\"Frequency\",\n",
    "    predicted=glm_freq.predict(X_test),\n",
    "    y_label=\"Claim Frequency\",\n",
    "    title=\"test data\",\n",
    "    ax=ax[1, 1],\n",
    "    fill_legend=True\n",
    ")"
   ]
  },
  {
   "cell_type": "code",
   "execution_count": 9,
   "id": "3dbb37e1",
   "metadata": {},
   "outputs": [
    {
     "data": {
      "text/plain": [
       "['/mnt/data/raw/illustration/freMTPLfreq.csv',\n",
       " '/mnt/data/raw/illustration/freMTPLsev.csv']"
      ]
     },
     "execution_count": 9,
     "metadata": {},
     "output_type": "execute_result"
    }
   ],
   "source": [
    "data_folder = os.path.join('/mnt', 'data', 'raw', 'illustration')\n",
    "all_raw_files = [os.path.join(data_folder, fname)\n",
    "                    for fname in os.listdir(data_folder)]\n",
    "all_raw_files"
   ]
  },
  {
   "cell_type": "code",
   "execution_count": 10,
   "id": "bfc39fbc",
   "metadata": {},
   "outputs": [],
   "source": [
    "random_state=42"
   ]
  },
  {
   "cell_type": "code",
   "execution_count": 19,
   "id": "34e403d4",
   "metadata": {},
   "outputs": [],
   "source": [
    "freMTPLfreq = pd.read_csv(all_raw_files[0], encoding='utf8' )"
   ]
  },
  {
   "cell_type": "code",
   "execution_count": 20,
   "id": "82f46bc3",
   "metadata": {},
   "outputs": [],
   "source": [
    "freMTPLsev = pd.read_csv(all_raw_files[1], encoding='utf8' )"
   ]
  },
  {
   "cell_type": "code",
   "execution_count": 21,
   "id": "69096b1a",
   "metadata": {},
   "outputs": [],
   "source": [
    "df_merged = pd.merge(freMTPLfreq, freMTPLsev, how='outer', on='PolicyID').fillna(0).set_index('PolicyID')"
   ]
  },
  {
   "cell_type": "code",
   "execution_count": 22,
   "id": "e94e0d2e",
   "metadata": {},
   "outputs": [
    {
     "data": {
      "text/html": [
       "<div>\n",
       "<style scoped>\n",
       "    .dataframe tbody tr th:only-of-type {\n",
       "        vertical-align: middle;\n",
       "    }\n",
       "\n",
       "    .dataframe tbody tr th {\n",
       "        vertical-align: top;\n",
       "    }\n",
       "\n",
       "    .dataframe thead th {\n",
       "        text-align: right;\n",
       "    }\n",
       "</style>\n",
       "<table border=\"1\" class=\"dataframe\">\n",
       "  <thead>\n",
       "    <tr style=\"text-align: right;\">\n",
       "      <th></th>\n",
       "      <th>ClaimNb</th>\n",
       "      <th>Exposure</th>\n",
       "      <th>Power</th>\n",
       "      <th>CarAge</th>\n",
       "      <th>DriverAge</th>\n",
       "      <th>Brand</th>\n",
       "      <th>Gas</th>\n",
       "      <th>Region</th>\n",
       "      <th>Density</th>\n",
       "      <th>ClaimAmount</th>\n",
       "    </tr>\n",
       "    <tr>\n",
       "      <th>PolicyID</th>\n",
       "      <th></th>\n",
       "      <th></th>\n",
       "      <th></th>\n",
       "      <th></th>\n",
       "      <th></th>\n",
       "      <th></th>\n",
       "      <th></th>\n",
       "      <th></th>\n",
       "      <th></th>\n",
       "      <th></th>\n",
       "    </tr>\n",
       "  </thead>\n",
       "  <tbody>\n",
       "    <tr>\n",
       "      <th>1</th>\n",
       "      <td>0</td>\n",
       "      <td>0.09</td>\n",
       "      <td>g</td>\n",
       "      <td>0</td>\n",
       "      <td>46</td>\n",
       "      <td>Japanese (except Nissan) or Korean</td>\n",
       "      <td>Diesel</td>\n",
       "      <td>Aquitaine</td>\n",
       "      <td>76</td>\n",
       "      <td>0.0</td>\n",
       "    </tr>\n",
       "    <tr>\n",
       "      <th>2</th>\n",
       "      <td>0</td>\n",
       "      <td>0.84</td>\n",
       "      <td>g</td>\n",
       "      <td>0</td>\n",
       "      <td>46</td>\n",
       "      <td>Japanese (except Nissan) or Korean</td>\n",
       "      <td>Diesel</td>\n",
       "      <td>Aquitaine</td>\n",
       "      <td>76</td>\n",
       "      <td>0.0</td>\n",
       "    </tr>\n",
       "    <tr>\n",
       "      <th>3</th>\n",
       "      <td>0</td>\n",
       "      <td>0.52</td>\n",
       "      <td>f</td>\n",
       "      <td>2</td>\n",
       "      <td>38</td>\n",
       "      <td>Japanese (except Nissan) or Korean</td>\n",
       "      <td>Regular</td>\n",
       "      <td>Nord-Pas-de-Calais</td>\n",
       "      <td>3003</td>\n",
       "      <td>0.0</td>\n",
       "    </tr>\n",
       "    <tr>\n",
       "      <th>4</th>\n",
       "      <td>0</td>\n",
       "      <td>0.45</td>\n",
       "      <td>f</td>\n",
       "      <td>2</td>\n",
       "      <td>38</td>\n",
       "      <td>Japanese (except Nissan) or Korean</td>\n",
       "      <td>Regular</td>\n",
       "      <td>Nord-Pas-de-Calais</td>\n",
       "      <td>3003</td>\n",
       "      <td>0.0</td>\n",
       "    </tr>\n",
       "    <tr>\n",
       "      <th>5</th>\n",
       "      <td>0</td>\n",
       "      <td>0.15</td>\n",
       "      <td>g</td>\n",
       "      <td>0</td>\n",
       "      <td>41</td>\n",
       "      <td>Japanese (except Nissan) or Korean</td>\n",
       "      <td>Diesel</td>\n",
       "      <td>Pays-de-la-Loire</td>\n",
       "      <td>60</td>\n",
       "      <td>0.0</td>\n",
       "    </tr>\n",
       "  </tbody>\n",
       "</table>\n",
       "</div>"
      ],
      "text/plain": [
       "          ClaimNb  Exposure Power  CarAge  DriverAge  \\\n",
       "PolicyID                                               \n",
       "1               0      0.09     g       0         46   \n",
       "2               0      0.84     g       0         46   \n",
       "3               0      0.52     f       2         38   \n",
       "4               0      0.45     f       2         38   \n",
       "5               0      0.15     g       0         41   \n",
       "\n",
       "                                       Brand      Gas              Region  \\\n",
       "PolicyID                                                                    \n",
       "1         Japanese (except Nissan) or Korean   Diesel           Aquitaine   \n",
       "2         Japanese (except Nissan) or Korean   Diesel           Aquitaine   \n",
       "3         Japanese (except Nissan) or Korean  Regular  Nord-Pas-de-Calais   \n",
       "4         Japanese (except Nissan) or Korean  Regular  Nord-Pas-de-Calais   \n",
       "5         Japanese (except Nissan) or Korean   Diesel    Pays-de-la-Loire   \n",
       "\n",
       "          Density  ClaimAmount  \n",
       "PolicyID                        \n",
       "1              76          0.0  \n",
       "2              76          0.0  \n",
       "3            3003          0.0  \n",
       "4            3003          0.0  \n",
       "5              60          0.0  "
      ]
     },
     "execution_count": 22,
     "metadata": {},
     "output_type": "execute_result"
    }
   ],
   "source": [
    "df_merged.head()"
   ]
  },
  {
   "cell_type": "markdown",
   "id": "5625c027",
   "metadata": {},
   "source": [
    "## EDA"
   ]
  },
  {
   "cell_type": "code",
   "execution_count": 23,
   "id": "0758e4d9",
   "metadata": {},
   "outputs": [],
   "source": [
    "pr = ProfileReport(df_merged)"
   ]
  },
  {
   "cell_type": "code",
   "execution_count": 24,
   "id": "5f3540d5",
   "metadata": {},
   "outputs": [
    {
     "data": {
      "application/vnd.jupyter.widget-view+json": {
       "model_id": "0a9708542bab4cc8a3db9c1878384b4a",
       "version_major": 2,
       "version_minor": 0
      },
      "text/plain": [
       "Summarize dataset:   0%|          | 0/24 [00:00<?, ?it/s]"
      ]
     },
     "metadata": {},
     "output_type": "display_data"
    },
    {
     "name": "stderr",
     "output_type": "stream",
     "text": [
      "/usr/local/lib/python3.8/dist-packages/scipy/stats/stats.py:4594: RuntimeWarning: overflow encountered in long_scalars\n",
      "  (2 * xtie * ytie) / m + x0 * y0 / (9 * m * (size - 2)))\n"
     ]
    },
    {
     "data": {
      "application/vnd.jupyter.widget-view+json": {
       "model_id": "7ec7c1e9c27e4108ad1f728fb4115492",
       "version_major": 2,
       "version_minor": 0
      },
      "text/plain": [
       "Generate report structure:   0%|          | 0/1 [00:00<?, ?it/s]"
      ]
     },
     "metadata": {},
     "output_type": "display_data"
    },
    {
     "data": {
      "application/vnd.jupyter.widget-view+json": {
       "model_id": "dd4f590908a64cd7add87341411604a4",
       "version_major": 2,
       "version_minor": 0
      },
      "text/plain": [
       "Render HTML:   0%|          | 0/1 [00:00<?, ?it/s]"
      ]
     },
     "metadata": {},
     "output_type": "display_data"
    },
    {
     "data": {
      "application/vnd.jupyter.widget-view+json": {
       "model_id": "1412aea2a01c436e86946f36639c707f",
       "version_major": 2,
       "version_minor": 0
      },
      "text/plain": [
       "Export report to file:   0%|          | 0/1 [00:00<?, ?it/s]"
      ]
     },
     "metadata": {},
     "output_type": "display_data"
    }
   ],
   "source": [
    "pr.to_file(output_file='freMTPL.html')"
   ]
  },
  {
   "cell_type": "markdown",
   "id": "a27fbf98",
   "metadata": {},
   "source": [
    "## TrainTest split"
   ]
  },
  {
   "cell_type": "code",
   "execution_count": null,
   "id": "3dca2a58",
   "metadata": {},
   "outputs": [],
   "source": []
  },
  {
   "cell_type": "code",
   "execution_count": 27,
   "id": "436f0d9a",
   "metadata": {},
   "outputs": [],
   "source": [
    "train, test = train_test_split(data, shuffle=True, test_size=0.2, random_state=random_state)"
   ]
  },
  {
   "cell_type": "markdown",
   "id": "ea2fc788",
   "metadata": {},
   "source": [
    "## Model"
   ]
  },
  {
   "cell_type": "markdown",
   "id": "aa9db237",
   "metadata": {},
   "source": [
    "On commence par définir une fonction générique qui sera en capacité d'ajuster, optimiser et logger dans MLFlow les résultats de pipelines qui seront produits pour chaque essai"
   ]
  },
  {
   "cell_type": "code",
   "execution_count": null,
   "id": "fd9c308a",
   "metadata": {},
   "outputs": [],
   "source": [
    "def eval_metrics(actual, pred):\n",
    "    # compute relevant metrics\n",
    "    f1 = f1_score(actual, pred, average='macro')\n",
    "    cr = classification_report(actual, pred)\n",
    "    return f1, cr"
   ]
  },
  {
   "cell_type": "code",
   "execution_count": 30,
   "id": "04914f24",
   "metadata": {},
   "outputs": [],
   "source": [
    "def random_state_params(pipe, seed):\n",
    "    \"\"\"Crée un dictionnaire constitué de tous les paramètres 'random_state' d'un pipe et leur assigne une valeur unique\"\"\"\n",
    "    rs = re.findall(r\"[a-zA-Z\\_]+_random_state\", ' '.join(list(pipe.get_params().keys())))\n",
    "    rs=dict.fromkeys(rs, seed)\n",
    "    return rs"
   ]
  },
  {
   "cell_type": "code",
   "execution_count": 40,
   "id": "8270dbed",
   "metadata": {},
   "outputs": [],
   "source": [
    "def trainPipelineMlFlow(xpName, pipeline, X_train, y_train, X_test, y_test, fixed_params={}, opti=False, iterable_params={}):\n",
    "    \"\"\"\n",
    "    Fonction générique permettant d'entrainer et d'optimiser un pipeline sklearn\n",
    "    Les paramètres et résultats sont stockés dans MLFlow\n",
    "    \"\"\"\n",
    "  \n",
    "    with mlflow.start_run(run_name=xpName):\n",
    "        \n",
    "        start_time = time.monotonic()  \n",
    "        \n",
    "        warnings.filterwarnings(\"ignore\")\n",
    "        \n",
    "        # fit pipeline\n",
    "        pipeline.set_params(**fixed_params)\n",
    "        if not opti:\n",
    "            search = pipeline\n",
    "        else:\n",
    "            search = RandomizedSearchCV(pipeline, iterable_params)\n",
    "        search.fit(X_train, y_train)\n",
    "                \n",
    "        # get params\n",
    "        params_to_log = fixed_params #select initial params\n",
    "        if opti:\n",
    "            params_to_log.update(search.best_params_) #update for optimal solution\n",
    "        mlflow.log_params(params_to_log)\n",
    "        \n",
    "        # Evaluate metrics\n",
    "        y_pred=search.predict(X_test)\n",
    "        (f1_test, cr_test) = eval_metrics(y_test, y_pred)\n",
    "        \n",
    "        # Print out metrics\n",
    "        print(xpName)\n",
    "        print(\"params:\" % params)\n",
    "        print(\"f1_test: %s\" % f1_test)\n",
    "        print(\"  CR_test: %s\" % cr_test)\n",
    "\n",
    "        mlflow.log_metrics({\"f1_test\": f1_test})\n",
    "        mlflow.sklearn.log_model(pipeline, xpName)\n",
    "        \n",
    "        end_time = time.monotonic()\n",
    "        elapsed_time = timedelta(seconds=end_time - start_time)\n",
    "        print('elapsed time :', elapsed_time)\n",
    "        mlflow.set_tag(key=\"elapsed_time\", value=elapsed_time)   \n",
    "        "
   ]
  },
  {
   "cell_type": "code",
   "execution_count": null,
   "id": "60e096d7",
   "metadata": {},
   "outputs": [],
   "source": []
  }
 ],
 "metadata": {
  "kernelspec": {
   "display_name": "Python 3",
   "language": "python",
   "name": "python3"
  },
  "language_info": {
   "codemirror_mode": {
    "name": "ipython",
    "version": 3
   },
   "file_extension": ".py",
   "mimetype": "text/x-python",
   "name": "python",
   "nbconvert_exporter": "python",
   "pygments_lexer": "ipython3",
   "version": "3.8.5"
  }
 },
 "nbformat": 4,
 "nbformat_minor": 5
}
